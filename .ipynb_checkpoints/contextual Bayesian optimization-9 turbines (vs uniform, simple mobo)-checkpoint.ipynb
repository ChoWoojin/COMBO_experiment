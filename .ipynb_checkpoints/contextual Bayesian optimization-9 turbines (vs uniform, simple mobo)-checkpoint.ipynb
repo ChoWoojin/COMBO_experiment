{
 "cells": [
  {
   "cell_type": "markdown",
   "metadata": {},
   "source": [
    "# Wind Farm Power Prediction"
   ]
  },
  {
   "cell_type": "code",
   "execution_count": 1,
   "metadata": {},
   "outputs": [],
   "source": [
    "# load modules (install floris)\n",
    "from floris.floris import Floris\n",
    "import numpy as np\n",
    "import matplotlib.pyplot as plt\n",
    "import scipy\n",
    "import gpflow\n",
    "import GPy\n",
    "import random\n",
    "from pygmo import hypervolume\n",
    "\n",
    "# Visualization\n",
    "from copy import deepcopy\n",
    "from visualization_manager import VisualizationManager\n",
    "from pareto import Pareto\n",
    "from scipy.optimize import minimize\n",
    "from scipy.stats import norm\n",
    "from pareto import Pareto\n",
    "%matplotlib inline"
   ]
  },
  {
   "cell_type": "markdown",
   "metadata": {},
   "source": [
    "# Define Wind Farm Power Calculator\n",
    "## inputs are:\n",
    "floris object (that will be initiated with wind farm configuations, i.e., number of WT, locations)\n",
    "\n",
    "wd (wind direction)\n",
    "\n",
    "ws (wind speed)\n",
    "\n",
    "yawAngle (action vector whose dimension is the number of wind turbines) "
   ]
  },
  {
   "cell_type": "code",
   "execution_count": 2,
   "metadata": {},
   "outputs": [],
   "source": [
    "def windFarmPower(floris,wd, ws, yawAngle,scale):\n",
    "    \n",
    "    #set up wind direction and speed\n",
    "    floris.farm.flow_field.wind_direction = np.radians(wd - 270) # frame of reference is west\n",
    "    floris.farm.flow_field.wind_speed = ws\n",
    "    floris.farm.flow_field.initial_flowfield = floris.farm.flow_field._initial_flowfield()\n",
    "    floris.farm.flow_field.u_field = floris.farm.flow_field._initial_flowfield()\n",
    "    \n",
    "    \n",
    "    turbines    = [turbine for _, turbine in floris.farm.flow_field.turbine_map.items()]\n",
    "    for k,turbine in enumerate(turbines):\n",
    "        turbine.yaw_angle = np.radians(yawAngle[k])\n",
    "    floris.farm.flow_field.calculate_wake()\n",
    "    \n",
    "    power = np.zeros([len(yawAngle),1])\n",
    "    totalPower = 0.0\n",
    "    for i, turbine in enumerate(turbines):\n",
    "        power[i]=turbine.power\n",
    "        totalPower = totalPower + turbine.power    \n",
    "    \n",
    "    return power/scale, totalPower/scale/len(turbines)"
   ]
  },
  {
   "cell_type": "markdown",
   "metadata": {},
   "source": [
    "# Compute the maximum wind turbine power using single wind turbine "
   ]
  },
  {
   "cell_type": "code",
   "execution_count": 3,
   "metadata": {},
   "outputs": [
    {
     "name": "stdout",
     "output_type": "stream",
     "text": [
      "(0.0, 0.0):\n",
      "\tCp - 0.46328782548262326\n",
      "\tCt - 0.7661304442831962\n",
      "\tpower - 1712005.1679717556\n",
      "\tai - 0.2581996920407235\n",
      "\taverage velocity - 7.85065163365446\n"
     ]
    }
   ],
   "source": [
    "#run wind farm configuration input with a single wind turbine\n",
    "floris = Floris(\"example_input_single.json\")\n",
    "numWT = 1\n",
    "scale = 1.0\n",
    "#conventional default input is yawAngle = 0 degree\n",
    "yawAngle0 = np.zeros(numWT)\n",
    "\n",
    "#compute the wind turbine power vector and total wind farm power (for single wind turbine they are the same)\n",
    "powerSingle,totalPower = windFarmPower(floris,0, 8, yawAngle0,scale)\n",
    "\n",
    "for coord, turbine in floris.farm.turbine_map.items():\n",
    "    print(str(coord) + \":\")\n",
    "    print(\"\\tCp -\", turbine.Cp)\n",
    "    print(\"\\tCt -\", turbine.Ct)\n",
    "    print(\"\\tpower -\", turbine.power)\n",
    "    print(\"\\tai -\", turbine.aI)\n",
    "    print(\"\\taverage velocity -\", turbine.get_average_velocity())"
   ]
  },
  {
   "cell_type": "markdown",
   "metadata": {},
   "source": [
    "## Setup Wind Farm Layout\n",
    "### Open \"example_input_double.json\" and look at how the wind farm is defined"
   ]
  },
  {
   "cell_type": "code",
   "execution_count": 4,
   "metadata": {
    "scrolled": false
   },
   "outputs": [],
   "source": [
    "floris = Floris(\"example_input_6.json\")"
   ]
  },
  {
   "cell_type": "markdown",
   "metadata": {},
   "source": [
    "# Compute the power vector and total wind farm power"
   ]
  },
  {
   "cell_type": "code",
   "execution_count": 5,
   "metadata": {},
   "outputs": [
    {
     "data": {
      "text/plain": [
       "array([[0.49172748]])"
      ]
     },
     "execution_count": 5,
     "metadata": {},
     "output_type": "execute_result"
    }
   ],
   "source": [
    "wd=180;\n",
    "ws=8;\n",
    "num_tur = len(floris.farm.flow_field.turbine_map.items())\n",
    "yawAngle = np.ones(num_tur)*0.01\n",
    "power, totalPower = windFarmPower(floris, wd, 8, yawAngle, powerSingle)\n",
    "totalPower"
   ]
  },
  {
   "cell_type": "markdown",
   "metadata": {},
   "source": [
    "# Compare the greedy control and cooperative control (optimized yaw angle vector)"
   ]
  },
  {
   "cell_type": "code",
   "execution_count": 6,
   "metadata": {},
   "outputs": [],
   "source": [
    "def hypervolume_poi(Xcand, gp_models, pareto, reference, outdim, wind_dir):\n",
    "    Xcand = np.atleast_2d(Xcand)\n",
    "    Xcand = np.hstack((Xcand, np.ones((len(Xcand), 1)) * wind_dir))\n",
    "    num_cells = pareto.bounds.lb.shape[0]\n",
    "    N = Xcand.shape[0]\n",
    "\n",
    "    # Extended Pareto front\n",
    "    pf_ext = np.concatenate([-np.inf * np.ones([1, outdim], dtype=float), pareto.front, reference], 0)\n",
    "\n",
    "    # Predictions for candidates, concatenate columns\n",
    "    preds = [m.predict(Xcand) for m in gp_models]\n",
    "    candidate_mean, candidate_var = (np.concatenate(moment, 1) for moment in zip(*preds))\n",
    "    candidate_var = np.maximum(candidate_var, 1e-6)  # avoid zeros\n",
    "\n",
    "    # Calculate the cdf's for all candidates for every predictive distribution in the data points\n",
    "    normal = scipy.stats.norm(candidate_mean, np.sqrt(candidate_var))\n",
    "    Phi = np.transpose(normal.cdf(np.expand_dims(pf_ext, 1)), [1, 0, 2])  # N x pf_ext_size x outdim\n",
    "    # tf.gather_nd indices for bound points\n",
    "    col_idx = np.tile(range(outdim), (num_cells,))\n",
    "    ub_idx = np.stack((np.reshape(pareto.bounds.ub, [-1]), col_idx), axis=1).astype(int)  # (num_cells*outdim x 2)\n",
    "    lb_idx = np.stack((np.reshape(pareto.bounds.lb, [-1]), col_idx), axis=1).astype(int)  # (num_cells*outdim x 2)\n",
    "    \n",
    "    # Calculate PoI\n",
    "    P1 = np.zeros((N, num_cells*outdim))\n",
    "    P2 = np.zeros((N, num_cells*outdim))\n",
    "    for i in range(len(ub_idx)):\n",
    "        for k in range(N):\n",
    "            P1[k,i] = np.transpose(Phi, [1, 2, 0])[ub_idx[i][0],ub_idx[i][1], k]  # N x num_cell*outdim\n",
    "            P2[k,i] = np.transpose(Phi, [1, 2, 0])[lb_idx[i][0],lb_idx[i][1], k]  # N x num_cell*outdim\n",
    "    P = np.reshape(P1 - P2, [N, num_cells, outdim])\n",
    "    PoI = np.sum(np.prod(P, axis=2), axis=1, keepdims=True)  # N x 1\n",
    "\n",
    "    # Calculate Hypervolume contribution of points Y\n",
    "    ub_points = np.zeros((1, num_cells*outdim))\n",
    "    lb_points = np.zeros((1, num_cells*outdim))\n",
    "    for i in range(len(ub_idx)):\n",
    "        ub_points[0,i] = pf_ext[ub_idx[i][0],ub_idx[i][1]]\n",
    "        lb_points[0,i] = pf_ext[lb_idx[i][0],lb_idx[i][1]]\n",
    "    ub_points = np.reshape(ub_points, [num_cells, outdim])\n",
    "    lb_points = np.reshape(lb_points, [num_cells, outdim])\n",
    "\n",
    "    splus_valid = np.all(np.tile(np.expand_dims(ub_points, 1), [1, N, 1]) > candidate_mean,\n",
    "                                axis=2)  # num_cells x N\n",
    "    splus_idx = np.expand_dims(splus_valid.astype(np.float64), -1)  # num_cells x N x 1\n",
    "    splus_lb = np.tile(np.expand_dims(lb_points, 1), [1, N, 1])  # num_cells x N x outdim\n",
    "    splus_lb = np.maximum(splus_lb, candidate_mean)  # num_cells x N x outdim\n",
    "    splus_ub = np.tile(np.expand_dims(ub_points, 1), [1, N, 1])  # num_cells x N x outdim\n",
    "    splus = np.concatenate([splus_idx, splus_ub - splus_lb], axis=2)  # num_cells x N x (outdim+1)\n",
    "    Hv = np.transpose(np.sum(np.prod(splus, axis=2), axis=0, keepdims=True))  # N x 1\n",
    "    \n",
    "    # return HvPoI\n",
    "    return -np.multiply(Hv, PoI)"
   ]
  },
  {
   "cell_type": "code",
   "execution_count": 7,
   "metadata": {},
   "outputs": [],
   "source": [
    "def sample_next_point(acquisition, gp_model, bounds, pareto, reference, outdim, wind_dir, N_mc = 5000):\n",
    "    \"\"\"\n",
    "    acquisition : acquisition function of Gaussian processes\n",
    "    gp_model : gpflow Gaussian process model\n",
    "    eval_y : evaluated y list in current state\n",
    "    bounds : boundary of next point\n",
    "    n_restarts : number of restarts for scipy.minimize\n",
    "    \n",
    "    return : next x    \n",
    "    \"\"\"\n",
    "    best_x = None\n",
    "    best_acquisition_value = 0\n",
    "    n_params = bounds.shape[0]\n",
    "    points = np.random.uniform(bounds[:, 0], bounds[:, 1], size=(N_mc, n_params))\n",
    "    evaluations = acquisition(points, gp_model, pareto, reference, outdim, wind_dir)\n",
    "    idx_best = np.argmin(evaluations, axis=0)\n",
    "    \n",
    "    result = minimize(fun=acquisition, x0=points[idx_best, :], bounds=bounds, method='L-BFGS-B',args=(gp_model, pareto, reference, outdim, wind_dir))\n",
    "    if result.fun <= best_acquisition_value:\n",
    "        best_acquisition_value = result.fun\n",
    "        best_x = result.x\n",
    "\n",
    "    return best_x"
   ]
  },
  {
   "cell_type": "code",
   "execution_count": 8,
   "metadata": {},
   "outputs": [],
   "source": [
    "def multiobj_f(yawangle):\n",
    "    Y1 = np.zeros(len(yawangle))[:,None]\n",
    "    Y2 = np.zeros(len(yawangle))[:,None]\n",
    "    for i,angle in enumerate(yawangle):\n",
    "        power,totalPower = windFarmPower(floris, angle[-1], 8, angle[:-1], powerSingle)\n",
    "        Y1[i] = -totalPower\n",
    "        Y2[i] = np.sum(np.square(np.radians(angle[:-1]))) / np.square(np.radians(25.0)) / num_tur\n",
    "    Y = np.hstack((Y1,Y2))\n",
    "    return Y"
   ]
  },
  {
   "cell_type": "code",
   "execution_count": 9,
   "metadata": {},
   "outputs": [],
   "source": [
    "minimum_yaw_angle = 0.0\n",
    "maximum_yaw_angle = 25.0\n",
    "\n",
    "bounds = np.zeros((num_tur, 2))\n",
    "for i in range(num_tur):\n",
    "    bounds[i,:] = [minimum_yaw_angle, maximum_yaw_angle]\n",
    "    \n",
    "# number of turbines + wind context\n",
    "n_params = bounds.shape[0]+1"
   ]
  },
  {
   "cell_type": "code",
   "execution_count": 10,
   "metadata": {},
   "outputs": [],
   "source": [
    "co = np.arange(0, 30, 0.1)\n",
    "ang = np.zeros(num_tur)\n",
    "po = []\n",
    "for i in co:\n",
    "    pow1, totalp = windFarmPower(floris, i, 8, ang, powerSingle)\n",
    "    po.append(totalp)\n",
    "po = np.array(po).reshape((len(po), 1))"
   ]
  },
  {
   "cell_type": "code",
   "execution_count": 11,
   "metadata": {},
   "outputs": [
    {
     "data": {
      "image/png": "[encoded data removed]",
      "text/plain": [
       "<Figure size 432x288 with 1 Axes>"
      ]
     },
     "metadata": {
      "needs_background": "light"
     },
     "output_type": "display_data"
    }
   ],
   "source": [
    "plt.plot(co, po)\n",
    "plt.show()"
   ]
  },
  {
   "cell_type": "code",
   "execution_count": 12,
   "metadata": {},
   "outputs": [],
   "source": [
    "# test_c = np.random.uniform(0, 45)\n",
    "test_c = 0"
   ]
  },
  {
   "cell_type": "code",
   "execution_count": 13,
   "metadata": {},
   "outputs": [],
   "source": [
    "# Generate context\n",
    "def generate_context(lower, upper, length):\n",
    "    con = [0]\n",
    "    for i in range(length-1):\n",
    "        prob = np.random.uniform(0,1)\n",
    "        if prob >= 0.5:\n",
    "            if con[-1] + 1 > upper:\n",
    "                new_c = con[-1] - 1\n",
    "            else:\n",
    "                new_c = con[-1] + 1      \n",
    "        else:\n",
    "            if con[-1] - 1 < lower:\n",
    "                new_c = con[-1] + 1      \n",
    "            else:\n",
    "                new_c = con[-1] - 1\n",
    "        con.append(new_c)\n",
    "    return np.array(con)[:,None]"
   ]
  },
  {
   "cell_type": "code",
   "execution_count": 14,
   "metadata": {},
   "outputs": [
    {
     "data": {
      "image/png": "[encoded data removed]",
      "text/plain": [
       "<Figure size 432x288 with 1 Axes>"
      ]
     },
     "metadata": {
      "needs_background": "light"
     },
     "output_type": "display_data"
    }
   ],
   "source": [
    "plt.plot(generate_context(0, 30, 500))\n",
    "plt.show()"
   ]
  },
  {
   "cell_type": "code",
   "execution_count": 15,
   "metadata": {},
   "outputs": [],
   "source": [
    "# initial data point of wind-farm\n",
    "init_sample = 1\n",
    "upper = 30\n",
    "lower = 0\n",
    "wd_init = generate_context(lower, upper, init_sample)\n",
    "\n",
    "initial_input = np.zeros((init_sample, bounds.shape[0]))\n",
    "for i, yawangles in enumerate(np.random.uniform(bounds[:, 0], bounds[:, 1], (init_sample, bounds.shape[0]))):\n",
    "    initial_input[i,:] = yawangles\n",
    "initial_input = np.hstack((initial_input, wd_init))\n",
    "initial_output = multiobj_f(initial_input)"
   ]
  },
  {
   "cell_type": "code",
   "execution_count": 16,
   "metadata": {},
   "outputs": [
    {
     "ename": "NameError",
     "evalue": "name 'Y' is not defined",
     "output_type": "error",
     "traceback": [
      "\u001b[0;31m---------------------------------------------------------------------------\u001b[0m",
      "\u001b[0;31mNameError\u001b[0m                                 Traceback (most recent call last)",
      "\u001b[0;32m<ipython-input-16-0cd59a81dc4c>\u001b[0m in \u001b[0;36m<module>\u001b[0;34m()\u001b[0m\n\u001b[0;32m----> 1\u001b[0;31m \u001b[0mnum_output\u001b[0m \u001b[0;34m=\u001b[0m \u001b[0mY\u001b[0m\u001b[0;34m.\u001b[0m\u001b[0mshape\u001b[0m\u001b[0;34m[\u001b[0m\u001b[0;36m1\u001b[0m\u001b[0;34m]\u001b[0m\u001b[0;34m\u001b[0m\u001b[0m\n\u001b[0m\u001b[1;32m      2\u001b[0m \u001b[0mnum_iter\u001b[0m \u001b[0;34m=\u001b[0m \u001b[0;36m500\u001b[0m\u001b[0;34m\u001b[0m\u001b[0m\n\u001b[1;32m      3\u001b[0m \u001b[0mwd_context\u001b[0m \u001b[0;34m=\u001b[0m \u001b[0mgenerate_context\u001b[0m\u001b[0;34m(\u001b[0m\u001b[0mlower\u001b[0m\u001b[0;34m,\u001b[0m \u001b[0mupper\u001b[0m\u001b[0;34m,\u001b[0m \u001b[0mnum_iter\u001b[0m\u001b[0;34m)\u001b[0m\u001b[0;34m\u001b[0m\u001b[0m\n\u001b[1;32m      4\u001b[0m \u001b[0mcmbo_input\u001b[0m \u001b[0;34m=\u001b[0m \u001b[0minitial_input\u001b[0m\u001b[0;34m\u001b[0m\u001b[0m\n\u001b[1;32m      5\u001b[0m \u001b[0mcmbo_output\u001b[0m \u001b[0;34m=\u001b[0m \u001b[0minitial_output\u001b[0m\u001b[0;34m\u001b[0m\u001b[0m\n",
      "\u001b[0;31mNameError\u001b[0m: name 'Y' is not defined"
     ]
    }
   ],
   "source": [
    "num_output = Y.shape[1]\n",
    "num_iter = 500\n",
    "wd_context = generate_context(lower, upper, num_iter)\n",
    "cmbo_input = initial_input\n",
    "cmbo_output = initial_output\n",
    "\n",
    "for i in range(num_iter):\n",
    "    if i % 5 == 0:\n",
    "        wd_context[i] = test_c\n",
    "\n",
    "for i in range(num_iter):\n",
    "    pareto = Pareto(np.empty((0, num_output)))\n",
    "    reference = np.ones((1, num_output))\n",
    "    \n",
    "    gp_models = [GPy.models.GPRegression(cmbo_input.copy(), cmbo_output[:,[i]].copy(), kernel= GPy.kern.Matern52(input_dim=n_params, ARD=True)) for i in range(cmbo_output.shape[1])]\n",
    "    for m in gp_models:\n",
    "        m.optimize()\n",
    "    \n",
    "    trusted_X = np.array([cmbo_input[j] for j in range(len(cmbo_input)) if wd_context[i]-30 <= cmbo_input[j,-1] <= wd_context[i]+30])\n",
    "    context_X = np.hstack((trusted_X[:,:-1], np.ones((len(trusted_X), 1)) * wd_context[i]))    \n",
    "    preds =  [m.predict(context_X) for m in gp_models]\n",
    "    context_Y, var = (np.concatenate(moment, 1) for moment in zip(*preds))\n",
    "    \n",
    "    pareto.update(context_Y)\n",
    "    pf = pareto.front\n",
    "    f = np.max(pf, axis=0, keepdims=True) - np.min(pf, axis=0, keepdims=True)\n",
    "    reference = np.max(pf, axis=0, keepdims=True) + 2 * f / pf.shape[0]\n",
    "    \n",
    "\n",
    "    next_point = np.atleast_2d(sample_next_point(hypervolume_poi, gp_models, bounds, pareto, reference, num_output, wd_context[i]))\n",
    "    next_point = np.hstack((next_point, np.ones((1,1)) * wd_context[i]))\n",
    "    cmbo_input = np.append(cmbo_input, next_point, axis = 0)\n",
    "    function_value = multiobj_f(np.atleast_2d(next_point))\n",
    "    cmbo_output = np.append(cmbo_output, function_value, axis = 0)"
   ]
  },
  {
   "cell_type": "code",
   "execution_count": null,
   "metadata": {},
   "outputs": [],
   "source": [
    "target_index = [i for i in range(len(X)) if cmbo_input[i][-1] == test_c]\n",
    "volume2 = []\n",
    "ref_point = [0,1]\n",
    "for i in range(len(cmbo_output[target_index])):\n",
    "    hv = hypervolume(cmbo_output[target_index][:i+1])\n",
    "    v = hv.compute(ref_point)\n",
    "    volume2.append(v)\n",
    "plt.plot(volume2)\n",
    "plt.show()"
   ]
  },
  {
   "cell_type": "code",
   "execution_count": null,
   "metadata": {},
   "outputs": [],
   "source": [
    "plt.scatter(cmbo_output[target_index][:,0], cmbo_output[target_index][:,1])\n",
    "plt.show()"
   ]
  },
  {
   "cell_type": "code",
   "execution_count": null,
   "metadata": {},
   "outputs": [],
   "source": [
    "num_output = Y.shape[1]\n",
    "num_iter = 100\n",
    "wd_context = np.zeros((num_iter,1))\n",
    "mbo_input = initial_input\n",
    "mbo_output = initial_output\n",
    "\n",
    "for i in range(num_iter):\n",
    "    pareto = Pareto(np.empty((0, num_output)))\n",
    "    reference = np.ones((1, num_output))\n",
    "    \n",
    "    gp_models = [GPy.models.GPRegression(mbo_input.copy(), mbo_input[:,[i]].copy(), kernel= GPy.kern.Matern52(input_dim=n_params-1, ARD=True)) for i in range(mbo_output.shape[1])]\n",
    "    for m in gp_models:\n",
    "        m.optimize()\n",
    "    \n",
    "    trusted_X = np.array([mbo_input[j] for j in range(len(mbo_input)) if wd_context[i]-30 <= mbo_input[j,-1] <= wd_context[i]+30])\n",
    "    context_X = np.hstack((trusted_X[:,:-1], np.ones((len(trusted_X), 1)) * wd_context[i]))    \n",
    "    preds =  [m.predict(context_X) for m in gp_models]\n",
    "    context_Y, var = (np.concatenate(moment, 1) for moment in zip(*preds))\n",
    "    pareto.update(context_Y)\n",
    "    pf = pareto.front\n",
    "    f = np.max(pf, axis=0, keepdims=True) - np.min(pf, axis=0, keepdims=True)\n",
    "    reference = np.max(pf, axis=0, keepdims=True) + 2 * f / pf.shape[0]\n",
    "    \n",
    "\n",
    "    next_point = np.atleast_2d(sample_next_point(hypervolume_poi, gp_models, bounds, pareto, reference, num_output, wd_context[i]))\n",
    "    next_point = np.hstack((next_point, np.ones((1,1)) * wd_context[i]))\n",
    "    mbo_input = np.append(mbo_input, next_point, axis = 0)\n",
    "    function_value = multiobj_f(np.atleast_2d(next_point))\n",
    "    mbo_output = np.append(mbo_output, function_value, axis = 0)"
   ]
  },
  {
   "cell_type": "code",
   "execution_count": null,
   "metadata": {},
   "outputs": [],
   "source": [
    "volume3 = []\n",
    "ref_point = [0,1]\n",
    "for i in range(len(Y)):\n",
    "    hv = hypervolume(Y[:i+1])\n",
    "    v = hv.compute(ref_point)\n",
    "    volume3.append(v)\n",
    "plt.plot(volume3)\n",
    "plt.show()"
   ]
  },
  {
   "cell_type": "code",
   "execution_count": null,
   "metadata": {},
   "outputs": [],
   "source": [
    "plt.scatter(Y[:,0], Y[:,1])\n",
    "plt.show()"
   ]
  },
  {
   "cell_type": "code",
   "execution_count": null,
   "metadata": {},
   "outputs": [],
   "source": [
    "uniform_input = np.random.uniform(bounds[:, 0], bounds[:, 1], size=(101, bounds.shape[0]))\n",
    "uniform_input = np.hstack((uniform_input, np.zeros((101,1))))\n",
    "uniform_output = multiobj_f(np.atleast_2d(uniform_input))"
   ]
  },
  {
   "cell_type": "code",
   "execution_count": null,
   "metadata": {},
   "outputs": [],
   "source": [
    "volume4 = []\n",
    "ref_point = [0,1]\n",
    "for i in range(len(uniform_output)):\n",
    "    hv = hypervolume(uniform_output[:i+1])\n",
    "    v = hv.compute(ref_point)\n",
    "    volume4.append(v)\n",
    "plt.plot(volume4)\n",
    "plt.show()"
   ]
  },
  {
   "cell_type": "code",
   "execution_count": null,
   "metadata": {},
   "outputs": [],
   "source": [
    "plt.scatter(uniform_output[:,0], uniform_output[:,1])\n",
    "plt.show()"
   ]
  },
  {
   "cell_type": "code",
   "execution_count": null,
   "metadata": {},
   "outputs": [],
   "source": [
    "plt.plot(volume2, label = 'context bo')\n",
    "plt.plot(volume3, label = 'bo')\n",
    "plt.plot(volume4, label = 'uniform')\n",
    "plt.legend(loc = 2)\n",
    "plt.show()"
   ]
  },
  {
   "cell_type": "code",
   "execution_count": null,
   "metadata": {},
   "outputs": [],
   "source": []
  }
 ],
 "metadata": {
  "anaconda-cloud": {},
  "kernelspec": {
   "display_name": "Python 3",
   "language": "python",
   "name": "python3"
  },
  "language_info": {
   "codemirror_mode": {
    "name": "ipython",
    "version": 3
   },
   "file_extension": ".py",
   "mimetype": "text/x-python",
   "name": "python",
   "nbconvert_exporter": "python",
   "pygments_lexer": "ipython3",
   "version": "3.5.2"
  }
 },
 "nbformat": 4,
 "nbformat_minor": 2
}
