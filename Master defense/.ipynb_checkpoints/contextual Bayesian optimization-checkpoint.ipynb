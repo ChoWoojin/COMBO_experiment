{
 "cells": [
  {
   "cell_type": "markdown",
   "metadata": {},
   "source": [
    "# Wind Farm Power Prediction"
   ]
  },
  {
   "cell_type": "code",
   "execution_count": 2,
   "metadata": {},
   "outputs": [],
   "source": [
    "# load modules (install floris)\n",
    "from floris.floris import Floris\n",
    "import numpy as np\n",
    "import matplotlib.pyplot as plt\n",
    "\n",
    "# Visualization\n",
    "from copy import deepcopy\n",
    "from visualization_manager import VisualizationManager\n",
    "\n",
    "from scipy.optimize import minimize\n",
    "from pareto import Pareto\n",
    "%matplotlib inline"
   ]
  },
  {
   "cell_type": "markdown",
   "metadata": {},
   "source": [
    "# Define Wind Farm Power Calculator\n",
    "## inputs are:\n",
    "floris object (that will be initiated with wind farm configuations, i.e., number of WT, locations)\n",
    "\n",
    "wd (wind direction)\n",
    "\n",
    "ws (wind speed)\n",
    "\n",
    "yawAngle (action vector whose dimension is the number of wind turbines) "
   ]
  },
  {
   "cell_type": "code",
   "execution_count": 3,
   "metadata": {},
   "outputs": [],
   "source": [
    "def windFarmPower(floris,wd, ws, yawAngle,scale):\n",
    "    \n",
    "    #set up wind direction and speed\n",
    "    floris.farm.flow_field.wind_direction = np.radians(wd - 270) # frame of reference is west\n",
    "    floris.farm.flow_field.wind_speed = ws\n",
    "    floris.farm.flow_field.initial_flowfield = floris.farm.flow_field._initial_flowfield()\n",
    "    floris.farm.flow_field.u_field = floris.farm.flow_field._initial_flowfield()\n",
    "    \n",
    "    \n",
    "    turbines    = [turbine for _, turbine in floris.farm.flow_field.turbine_map.items()]\n",
    "    for k,turbine in enumerate(turbines):\n",
    "        turbine.yaw_angle = yawAngle[k]\n",
    "    floris.farm.flow_field.calculate_wake()\n",
    "    \n",
    "    power = np.zeros([len(yawAngle),1])\n",
    "    totalPower = 0.0\n",
    "    for i, turbine in enumerate(turbines):\n",
    "        power[i]=turbine.power\n",
    "        totalPower = totalPower + turbine.power    \n",
    "    \n",
    "    return power/scale, totalPower/scale/len(turbines)"
   ]
  },
  {
   "cell_type": "markdown",
   "metadata": {},
   "source": [
    "# Compute the maximum wind turbine power using single wind turbine "
   ]
  },
  {
   "cell_type": "code",
   "execution_count": 5,
   "metadata": {},
   "outputs": [
    {
     "name": "stdout",
     "output_type": "stream",
     "text": [
      "(0.0, 0.0):\n",
      "\tCp - 0.46328782548262326\n",
      "\tCt - 0.7661304442831962\n",
      "\tpower - 1712005.1679717556\n",
      "\tai - 0.2581996920407235\n",
      "\taverage velocity - 7.85065163365446\n"
     ]
    }
   ],
   "source": [
    "#run wind farm configuration input with a single wind turbine\n",
    "floris = Floris(\"example_input_single.json\")\n",
    "numWT = 1\n",
    "scale = 1.0\n",
    "#conventional default input is yawAngle = 0 degree\n",
    "yawAngle0 = np.zeros(numWT)\n",
    "\n",
    "#compute the wind turbine power vector and total wind farm power (for single wind turbine they are the same)\n",
    "powerSingle,totalPower = windFarmPower(floris,0, 8, yawAngle0,scale)\n",
    "\n",
    "for coord, turbine in floris.farm.turbine_map.items():\n",
    "    print(str(coord) + \":\")\n",
    "    print(\"\\tCp -\", turbine.Cp)\n",
    "    print(\"\\tCt -\", turbine.Ct)\n",
    "    print(\"\\tpower -\", turbine.power)\n",
    "    print(\"\\tai -\", turbine.aI)\n",
    "    print(\"\\taverage velocity -\", turbine.get_average_velocity())"
   ]
  },
  {
   "cell_type": "markdown",
   "metadata": {},
   "source": [
    "## Setup Wind Farm Layout\n",
    "### Open \"example_input_9.json\" and look at how the wind farm is defined"
   ]
  },
  {
   "cell_type": "code",
   "execution_count": 6,
   "metadata": {
    "scrolled": false
   },
   "outputs": [],
   "source": [
    "floris = Floris(\"example_input_9.json\")\n",
    "numWT = 9"
   ]
  },
  {
   "cell_type": "markdown",
   "metadata": {},
   "source": [
    "# Compute the power vector and total wind farm power"
   ]
  },
  {
   "cell_type": "code",
   "execution_count": 7,
   "metadata": {},
   "outputs": [
    {
     "data": {
      "text/plain": [
       "array([[0.50703416]])"
      ]
     },
     "execution_count": 7,
     "metadata": {},
     "output_type": "execute_result"
    }
   ],
   "source": [
    "wd=180;\n",
    "ws=8;\n",
    "yawAngle=np.ones(numWT)*0.01\n",
    "power, totalPower = windFarmPower(floris, wd, 8, yawAngle, powerSingle)\n",
    "totalPower"
   ]
  },
  {
   "cell_type": "markdown",
   "metadata": {},
   "source": [
    "# Compare the greedy control and cooperative control (optimized yaw angle vector)"
   ]
  },
  {
   "cell_type": "code",
   "execution_count": 9,
   "metadata": {},
   "outputs": [
    {
     "data": {
      "text/html": [
       "<table id='domain' width=100%><tr><td>Name</td><td>Type</td><td>Values</td></tr><tr><td>yawangle1</td><td>Continuous</td><td>[ 0. 25.]</td></tr><tr><td>yawangle2</td><td>Continuous</td><td>[ 0. 25.]</td></tr><tr><td>yawangle3</td><td>Continuous</td><td>[ 0. 25.]</td></tr><tr><td>yawangle4</td><td>Continuous</td><td>[ 0. 25.]</td></tr><tr><td>yawangle5</td><td>Continuous</td><td>[ 0. 25.]</td></tr><tr><td>yawangle6</td><td>Continuous</td><td>[ 0. 25.]</td></tr><tr><td>yawangle7</td><td>Continuous</td><td>[ 0. 25.]</td></tr><tr><td>yawangle8</td><td>Continuous</td><td>[ 0. 25.]</td></tr><tr><td>yawangle9</td><td>Continuous</td><td>[ 0. 25.]</td></tr></table>"
      ],
      "text/plain": [
       "<gpflowopt.domain.Domain at 0x1e9cce9a710>"
      ]
     },
     "execution_count": 9,
     "metadata": {},
     "output_type": "execute_result"
    }
   ],
   "source": [
    "from gpflowopt.domain import ContinuousParameter\n",
    "\n",
    "minimum_yaw_angle = 0.0\n",
    "maximum_yaw_angle = 25.0\n",
    "num_tur = len(floris.farm.flow_field.turbine_map.items())\n",
    "\n",
    "lower = [float(minimum_yaw_angle)]*num_tur\n",
    "upper = [float(maximum_yaw_angle)]*num_tur\n",
    "domain = np.sum([ContinuousParameter('yawangle{0}'.format(i), l, u) for i, l, u in zip(range(1,num_tur+1), lower, upper)])\n",
    "domain"
   ]
  },
  {
   "cell_type": "code",
   "execution_count": 10,
   "metadata": {},
   "outputs": [
    {
     "data": {
      "text/plain": [
       "<module 'OptModules' from 'C:\\\\Users\\\\Woojin Cho\\\\Dropbox\\\\Coding\\\\FLORIS-master\\\\examples\\\\OptModules.py'>"
      ]
     },
     "execution_count": 10,
     "metadata": {},
     "output_type": "execute_result"
    }
   ],
   "source": [
    "import gpflow\n",
    "import gpflowopt\n",
    "from gpflowopt.bo import BayesianOptimizer\n",
    "from gpflowopt.design import LatinHyperCube\n",
    "from gpflowopt.acquisition import ExpectedImprovement\n",
    "from gpflowopt.optim import SciPyOptimizer\n",
    "from gpflowopt import optim\n",
    "from scipy.optimize import minimize\n",
    "import OptModules  # modules used for optimizing FLORIS\n",
    "import numpy as np\n",
    "import imp\n",
    "imp.reload(OptModules)"
   ]
  },
  {
   "cell_type": "code",
   "execution_count": 11,
   "metadata": {
    "collapsed": true
   },
   "outputs": [],
   "source": [
    "def obj_f(yawangle):\n",
    "    Y = np.zeros(len(yawangle))[:,None]\n",
    "    for i,angle in enumerate(yawangle):\n",
    "        power,totalPower = windFarmPower(floris,0, 8, np.radians(angle), powerSingle)\n",
    "        Y[i] = -totalPower\n",
    "    \n",
    "    return Y"
   ]
  },
  {
   "cell_type": "code",
   "execution_count": 12,
   "metadata": {},
   "outputs": [
    {
     "name": "stdout",
     "output_type": "stream",
     "text": [
      "     fun: array([-0.72648279])\n",
      " message: 'OK'\n",
      "    nfev: 30\n",
      " success: True\n",
      "       x: array([[25., 25., 25., 25., 20., 25.,  5., 20., 10.]])\n"
     ]
    }
   ],
   "source": [
    "# Use standard Gaussian process Regression\n",
    "lhd = LatinHyperCube(6, domain)\n",
    "X = lhd.generate()\n",
    "Y = obj_f(X)\n",
    "model = gpflow.gpr.GPR(X, Y, gpflow.kernels.Matern52(domain.size, ARD=True))\n",
    "model.kern.lengthscales.transform = gpflow.transforms.Log1pe(1e-3)\n",
    "\n",
    "# Now create the Bayesian Optimizer\n",
    "alpha = ExpectedImprovement(model)\n",
    "optimizer = BayesianOptimizer(domain, alpha)\n",
    "# Run the Bayesian optimization\n",
    "with optimizer.silent():\n",
    "    r = optimizer.optimize(obj_f, n_iter=30)\n",
    "print(r)"
   ]
  },
  {
   "cell_type": "code",
   "execution_count": 13,
   "metadata": {},
   "outputs": [
    {
     "name": "stdout",
     "output_type": "stream",
     "text": [
      "     fun: array([-0.80138089])\n",
      " message: 'OK'\n",
      "    nfev: 30\n",
      " success: True\n",
      "       x: array([[25., 25.,  0., 25., 25., 25.,  0.,  0., 25.]])\n"
     ]
    }
   ],
   "source": [
    "opt = optim.StagedOptimizer([optim.MCOptimizer(domain, 5000), optim.SciPyOptimizer(domain)])# Run the Bayesian optimization\n",
    "optimizer2 = BayesianOptimizer(domain, alpha, optimizer=opt)\n",
    "with optimizer2.silent():\n",
    "    r2 = optimizer2.optimize(obj_f,n_iter=30)\n",
    "print(r2)"
   ]
  },
  {
   "cell_type": "code",
   "execution_count": 12,
   "metadata": {},
   "outputs": [
    {
     "name": "stdout",
     "output_type": "stream",
     "text": [
      "=====================================================================\n",
      "Optimizing wake redirection control...\n",
      "Number of parameters to optimize =  9\n",
      "=====================================================================\n"
     ]
    },
    {
     "data": {
      "text/plain": [
       "array([[0.80138089]])"
      ]
     },
     "execution_count": 12,
     "metadata": {},
     "output_type": "execute_result"
    }
   ],
   "source": [
    "opt_yaw_angles = OptModules.wake_steering(floris,minimum_yaw_angle,maximum_yaw_angle)\n",
    "turbines    = [turbine for _, turbine in floris.farm.flow_field.turbine_map.items()]\n",
    "for i,turbine in enumerate(turbines):\n",
    "    turbine.yaw_angle = opt_yaw_angles[i]\n",
    "floris.farm.flow_field.calculate_wake()\n",
    "power_opt = np.sum([turbine.power for turbine in turbines]) / powerSingle / num_tur\n",
    "power_opt"
   ]
  },
  {
   "cell_type": "code",
   "execution_count": 6,
   "metadata": {},
   "outputs": [],
   "source": [
    "turbines    = [turbine for _, turbine in floris.farm.flow_field.turbine_map.items()]\n",
    "\n",
    "num_tur = len(floris.farm.flow_field.turbine_map.items())\n",
    "yawangle = np.zeros(num_tur)[:, None]\n",
    "for i,turbine in enumerate(turbines):\n",
    "    turbine.yaw_angle = yawangle[i]\n",
    "floris.farm.flow_field.calculate_wake()\n",
    "\n",
    "X = np.zeros((num_tur, 4))\n",
    "Y = np.zeros(num_tur)[:, None]\n",
    "wind_dir = 0\n",
    "count = 0\n",
    "for coord, turbine in floris.farm.turbine_map.items():\n",
    "    X[count][0] = yawangle[count]\n",
    "    X[count][1] = float(str(coord).split(',')[0][1:])\n",
    "    X[count][2] = float(str(coord).split(',')[1][1:-1])\n",
    "    X[count][3] = wind_dir\n",
    "    Y[count] = turbine.power / powerSingle\n",
    "    count += 1"
   ]
  },
  {
   "cell_type": "code",
   "execution_count": 11,
   "metadata": {},
   "outputs": [
    {
     "data": {
      "text/plain": [
       "      fun: 4.648608290970573\n",
       " hess_inv: <3x3 LbfgsInvHessProduct with dtype=float64>\n",
       "      jac: array([-6.23587188e-11,  2.96385601e-12, -0.00000000e+00])\n",
       "  message: b'CONVERGENCE: NORM_OF_PROJECTED_GRADIENT_<=_PGTOL'\n",
       "     nfev: 61\n",
       "      nit: 53\n",
       "   status: 0\n",
       "  success: True\n",
       "        x: array([ 1.01671596e+07, -1.39080536e+00, -3.31420623e+07])"
      ]
     },
     "execution_count": 11,
     "metadata": {},
     "output_type": "execute_result"
    }
   ],
   "source": [
    "wind_model2 = gpflow.gpr.GPR(X[:,1:4], Y, kern = Wake_kern2())\n",
    "wind_model2.likelihood.variance = 1e-3\n",
    "# wind_model2.likelihood.fixed = True\n",
    "wind_model2\n",
    "wind_model2.optimize()"
   ]
  },
  {
   "cell_type": "code",
   "execution_count": 27,
   "metadata": {},
   "outputs": [
    {
     "data": {
      "text/plain": [
       "array([[27.3, 63. , 78. , 63. ,  7.3,  2.5, 27.3, 47.9, 47.9],\n",
       "       [ 0.6,  0.5,  0.1,  0.5,  0.1,  0.1,  0.6,  0.4,  0.4],\n",
       "       [ 0. ,  0. ,  0. ,  0. ,  0. ,  0. ,  0. ,  0. ,  0. ],\n",
       "       [ 0.8, 21.4,  6.9,  5.7, 18.1,  6.7, 12. , 10.1,  0.6],\n",
       "       [ 0.4,  0.6,  0.1,  0.1,  0.4,  0.1,  0. ,  0.2,  0.2],\n",
       "       [ 9.2,  0.4, 16.9, 17.4,  5.3, 14.2, 23.9, 11.1,  6.9],\n",
       "       [ 0.2,  1.7,  1.2,  1.2,  0.7,  2.1,  4.4,  2. ,  0.1],\n",
       "       [23.5,  3.5,  6.3, 16.3,  2.5, 10.9,  9.8,  4.5, 17.5],\n",
       "       [ 0.4,  0.4,  0.1,  0.4,  0.3,  0.3,  0.4,  0.1,  0.1]])"
      ]
     },
     "execution_count": 27,
     "metadata": {},
     "output_type": "execute_result"
    }
   ],
   "source": [
    "np.round(err_percent3, 1)"
   ]
  },
  {
   "cell_type": "code",
   "execution_count": 126,
   "metadata": {},
   "outputs": [
    {
     "data": {
      "text/plain": [
       "array(0.46328783)"
      ]
     },
     "execution_count": 126,
     "metadata": {},
     "output_type": "execute_result"
    }
   ],
   "source": [
    "turbines    = [turbine for _, turbine in floris.farm.flow_field.turbine_map.items()]\n",
    "turbines[0].Cp"
   ]
  },
  {
   "cell_type": "code",
   "execution_count": null,
   "metadata": {
    "collapsed": true
   },
   "outputs": [],
   "source": [
    "print(gpflow.__file__)"
   ]
  }
 ],
 "metadata": {
  "anaconda-cloud": {},
  "kernelspec": {
   "display_name": "Python 3",
   "language": "python",
   "name": "python3"
  },
  "language_info": {
   "codemirror_mode": {
    "name": "ipython",
    "version": 3
   },
   "file_extension": ".py",
   "mimetype": "text/x-python",
   "name": "python",
   "nbconvert_exporter": "python",
   "pygments_lexer": "ipython3",
   "version": "3.5.2"
  }
 },
 "nbformat": 4,
 "nbformat_minor": 2
}
