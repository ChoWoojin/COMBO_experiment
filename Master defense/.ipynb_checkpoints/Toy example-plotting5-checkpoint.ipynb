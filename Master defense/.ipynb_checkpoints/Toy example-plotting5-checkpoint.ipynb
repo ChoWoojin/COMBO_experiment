{
 "cells": [
  {
   "cell_type": "code",
   "execution_count": 1,
   "metadata": {},
   "outputs": [],
   "source": [
    "# load modules (install floris)\n",
    "from floris.floris import Floris\n",
    "import numpy as np\n",
    "import matplotlib.pyplot as plt\n",
    "import scipy\n",
    "import GPy\n",
    "import gpflow\n",
    "import random\n",
    "# Visualization\n",
    "from copy import deepcopy\n",
    "from visualization_manager import VisualizationManager\n",
    "\n",
    "from scipy.optimize import minimize\n",
    "from scipy.stats import norm\n",
    "from pareto import Pareto\n",
    "%matplotlib inline"
   ]
  },
  {
   "cell_type": "code",
   "execution_count": 2,
   "metadata": {},
   "outputs": [],
   "source": [
    "def multi_func(X):\n",
    "    X1 = X[:,0][:,None]; X2 = X[:,1][:,None]\n",
    "    f1 = -2*np.exp(15*(-np.square(X1-0.1)-np.square(X2)))-np.exp(20*(-np.square(X1-0.6))-np.square(X2-0.6))\n",
    "    + np.exp(20*(-np.square(X1+0.6))-np.square(X2-0.6)) + np.exp(20*(-np.square(X1-0.6))-np.square(X2+0.6)) \n",
    "    + np.exp(20*(-np.square(X1+0.6))-np.square(X2+0.6))\n",
    "    f2 = 2*np.exp(20*(-np.square(X1)-np.square(X2)))+np.exp(20*(-np.square(X1-0.4))-np.square(X2-0.6))\n",
    "    -np.exp(20*(-np.square(X1+0.5))-np.square(X2-0.7)) - np.exp(20*(-np.square(X1-0.5))-np.square(X2+0.7))\n",
    "    +np.exp(20*(-np.square(X1+0.4))-np.square(X2+0.8)) \n",
    "    \n",
    "    Y = np.hstack((f1,f2))\n",
    "    return Y"
   ]
  },
  {
   "cell_type": "code",
   "execution_count": 3,
   "metadata": {},
   "outputs": [],
   "source": [
    "def sample_next_point(acquisition, gp_model, bounds, pareto, reference, outdim, wind_dir, N_mc = 5000):\n",
    "    \"\"\"\n",
    "    acquisition : acquisition function of Gaussian processes\n",
    "    gp_model : gpflow Gaussian process model\n",
    "    eval_y : evaluated y list in current state\n",
    "    bounds : boundary of next point\n",
    "    n_restarts : number of restarts for scipy.minimize\n",
    "    \n",
    "    return : next x    \n",
    "    \"\"\"\n",
    "    best_x = None\n",
    "    best_acquisition_value = 0\n",
    "    n_params = bounds.shape[0]\n",
    "    points = np.random.uniform(bounds[:, 0], bounds[:, 1], size=(N_mc, n_params))\n",
    "    evaluations = acquisition(points, gp_model, pareto, reference, outdim, wind_dir)\n",
    "    idx_best = np.argmin(evaluations, axis=0)\n",
    "    \n",
    "    result = minimize(fun=acquisition, x0=points[idx_best, :], bounds=bounds, method='L-BFGS-B',args=(gp_model, pareto, reference, outdim, wind_dir))\n",
    "    if result.fun <= best_acquisition_value:\n",
    "        best_acquisition_value = result.fun\n",
    "        best_x = result.x\n",
    "\n",
    "    return best_x"
   ]
  },
  {
   "cell_type": "code",
   "execution_count": 4,
   "metadata": {},
   "outputs": [],
   "source": [
    "def hypervolume_poi(Xcand, gp_models, pareto, reference, outdim, wind_dir):\n",
    "    Xcand = np.atleast_2d(Xcand)\n",
    "    Xcand = np.hstack((Xcand, np.ones((len(Xcand), 1)) * wind_dir))\n",
    "    num_cells = pareto.bounds.lb.shape[0]\n",
    "    N = Xcand.shape[0]\n",
    "\n",
    "    # Extended Pareto front\n",
    "    pf_ext = np.concatenate([-np.inf * np.ones([1, outdim], dtype=float), pareto.front, reference], 0)\n",
    "\n",
    "    # Predictions for candidates, concatenate columns\n",
    "    preds = [m.predict(Xcand) for m in gp_models]\n",
    "    candidate_mean, candidate_var = (np.concatenate(moment, 1) for moment in zip(*preds))\n",
    "    candidate_var = np.maximum(candidate_var, 1e-6)  # avoid zeros\n",
    "\n",
    "    # Calculate the cdf's for all candidates for every predictive distribution in the data points\n",
    "    normal = scipy.stats.norm(candidate_mean, np.sqrt(candidate_var))\n",
    "    Phi = np.transpose(normal.cdf(np.expand_dims(pf_ext, 1)), [1, 0, 2])  # N x pf_ext_size x outdim\n",
    "    # tf.gather_nd indices for bound points\n",
    "    col_idx = np.tile(range(outdim), (num_cells,))\n",
    "    ub_idx = np.stack((np.reshape(pareto.bounds.ub, [-1]), col_idx), axis=1).astype(int)  # (num_cells*outdim x 2)\n",
    "    lb_idx = np.stack((np.reshape(pareto.bounds.lb, [-1]), col_idx), axis=1).astype(int)  # (num_cells*outdim x 2)\n",
    "    \n",
    "    # Calculate PoI\n",
    "    P1 = np.zeros((N, num_cells*outdim))\n",
    "    P2 = np.zeros((N, num_cells*outdim))\n",
    "    for i in range(len(ub_idx)):\n",
    "        for k in range(N):\n",
    "            P1[k,i] = np.transpose(Phi, [1, 2, 0])[ub_idx[i][0],ub_idx[i][1], k]  # N x num_cell*outdim\n",
    "            P2[k,i] = np.transpose(Phi, [1, 2, 0])[lb_idx[i][0],lb_idx[i][1], k]  # N x num_cell*outdim\n",
    "    P = np.reshape(P1 - P2, [N, num_cells, outdim])\n",
    "    PoI = np.sum(np.prod(P, axis=2), axis=1, keepdims=True)  # N x 1\n",
    "\n",
    "    # Calculate Hypervolume contribution of points Y\n",
    "    ub_points = np.zeros((1, num_cells*outdim))\n",
    "    lb_points = np.zeros((1, num_cells*outdim))\n",
    "    for i in range(len(ub_idx)):\n",
    "        ub_points[0,i] = pf_ext[ub_idx[i][0],ub_idx[i][1]]\n",
    "        lb_points[0,i] = pf_ext[lb_idx[i][0],lb_idx[i][1]]\n",
    "    ub_points = np.reshape(ub_points, [num_cells, outdim])\n",
    "    lb_points = np.reshape(lb_points, [num_cells, outdim])\n",
    "\n",
    "    splus_valid = np.all(np.tile(np.expand_dims(ub_points, 1), [1, N, 1]) > candidate_mean,\n",
    "                                axis=2)  # num_cells x N\n",
    "    splus_idx = np.expand_dims(splus_valid.astype(np.float64), -1)  # num_cells x N x 1\n",
    "    splus_lb = np.tile(np.expand_dims(lb_points, 1), [1, N, 1])  # num_cells x N x outdim\n",
    "    splus_lb = np.maximum(splus_lb, candidate_mean)  # num_cells x N x outdim\n",
    "    splus_ub = np.tile(np.expand_dims(ub_points, 1), [1, N, 1])  # num_cells x N x outdim\n",
    "    splus = np.concatenate([splus_idx, splus_ub - splus_lb], axis=2)  # num_cells x N x (outdim+1)\n",
    "    Hv = np.transpose(np.sum(np.prod(splus, axis=2), axis=0, keepdims=True))  # N x 1\n",
    "    \n",
    "    # return HvPoI\n",
    "    return -np.multiply(Hv, PoI)"
   ]
  },
  {
   "cell_type": "code",
   "execution_count": 5,
   "metadata": {
    "scrolled": true
   },
   "outputs": [
    {
     "data": {
      "image/png": "[encoded data removed]",
      "text/plain": [
       "<Figure size 432x288 with 2 Axes>"
      ]
     },
     "metadata": {
      "needs_background": "light"
     },
     "output_type": "display_data"
    },
    {
     "data": {
      "image/png": "[encoded data removed]",
      "text/plain": [
       "<Figure size 432x288 with 2 Axes>"
      ]
     },
     "metadata": {
      "needs_background": "light"
     },
     "output_type": "display_data"
    },
    {
     "data": {
      "image/png": "[encoded data removed]",
      "text/plain": [
       "<Figure size 432x288 with 1 Axes>"
      ]
     },
     "metadata": {
      "needs_background": "light"
     },
     "output_type": "display_data"
    },
    {
     "data": {
      "image/png": "[encoded data removed]",
      "text/plain": [
       "<Figure size 432x288 with 1 Axes>"
      ]
     },
     "metadata": {
      "needs_background": "light"
     },
     "output_type": "display_data"
    }
   ],
   "source": [
    "upper = 1\n",
    "lower = -1\n",
    "x_coord = np.arange(lower, upper, 0.01)\n",
    "y_coord = np.arange(lower, upper, 0.01)\n",
    "cont_X = np.linspace(lower, upper, 1001)\n",
    "cont_Y = np.ones(len(cont_X)) * (lower+upper)/2\n",
    "\n",
    "x, y = np.meshgrid(x_coord, y_coord)\n",
    "XX = np.hstack((x.ravel()[:,None], y.ravel()[:,None]))\n",
    "f1 = multi_func(XX)[:,0].reshape(len(y_coord),len(x_coord))\n",
    "f2 = multi_func(XX)[:,1].reshape(len(y_coord),len(x_coord))\n",
    "plt.contourf(x, y, f1)\n",
    "plt.plot(cont_X, cont_Y, color = 'red')\n",
    "plt.colorbar()\n",
    "plt.show()\n",
    "plt.contourf(x, y, f2)\n",
    "plt.plot(cont_X, cont_Y, color = 'red')\n",
    "plt.colorbar()\n",
    "plt.show()\n",
    "\n",
    "pareto = Pareto(np.empty((0,2)))\n",
    "\n",
    "f1f2 = multi_func(np.hstack((cont_X[:,None], cont_Y[:,None])))\n",
    "pareto.update(f1f2)\n",
    "plt.scatter(f1f2[:,0], f1f2[:,1])\n",
    "plt.scatter(pareto.front[:,0], pareto.front[:,1], color = 'red')\n",
    "plt.show()\n",
    "\n",
    "idx = np.array([i for i in range(len(f1f2)) if f1f2[i,0] in pareto.front[:,0]])\n",
    "plt.plot(cont_X, cont_Y)\n",
    "plt.scatter(cont_X[idx], cont_Y[idx], color = 'red')\n",
    "plt.show()"
   ]
  },
  {
   "cell_type": "markdown",
   "metadata": {},
   "source": [
    "## Input space plot"
   ]
  },
  {
   "cell_type": "code",
   "execution_count": null,
   "metadata": {},
   "outputs": [],
   "source": [
    "opt_x = []\n",
    "opt_y = []\n",
    "for c in np.linspace(lower, upper, 1001):\n",
    "    test_X = np.linspace(lower, upper, 1001)\n",
    "    test_Y = np.ones(len(cont_X)) * c\n",
    "    \n",
    "    pareto = Pareto(np.empty((0,2)))\n",
    "    f_value = multi_func(np.hstack((test_X[:,None], test_Y[:,None])))\n",
    "    pareto.update(f_value)\n",
    "    \n",
    "    idx = np.array([i for i in range(len(f_value)) if f_value[i,0] in pareto.front[:,0] and f_value[i,1] in pareto.front[:,1]])\n",
    "    opt_x.extend(test_X[idx])\n",
    "    opt_y.extend(test_Y[idx])\n",
    "\n",
    "plt.scatter(opt_x, opt_y, marker = 's', color = 'red')\n",
    "plt.show()"
   ]
  },
  {
   "cell_type": "code",
   "execution_count": null,
   "metadata": {},
   "outputs": [],
   "source": [
    "bounds = np.array([[lower, upper]])\n",
    "\n",
    "# initial data point of wind-farm\n",
    "init_sample = 20\n",
    "\n",
    "context_number = 10\n",
    "context_list = np.random.uniform(lower, upper, size=(context_number, 1))\n",
    "\n",
    "# pareto_set of function value space\n",
    "pareto_set = []\n",
    "for c in context_list:\n",
    "    con_X = np.linspace(lower, upper, 1001)\n",
    "    con_Y = np.ones(len(con_X)) * c\n",
    "    pareto = Pareto(np.empty((0,2)))\n",
    "    \n",
    "    f1f2 = multi_func(np.hstack((con_X[:,None], con_Y[:,None])))\n",
    "    pareto.update(f1f2)\n",
    "    pareto_set.append(pareto.front)\n",
    "\n",
    "\n",
    "c_init = np.random.choice(context_list.flatten(), init_sample)[:,None]\n",
    "X = np.zeros((init_sample, bounds.shape[0]))\n",
    "for i, yawangles in enumerate(np.random.uniform(bounds[:, 0], bounds[:, 1], (init_sample, bounds.shape[0]))):\n",
    "    X[i,:] = yawangles\n",
    "X = np.hstack((X, c_init))\n",
    "Y = multi_func(X)"
   ]
  },
  {
   "cell_type": "code",
   "execution_count": null,
   "metadata": {
    "scrolled": true
   },
   "outputs": [],
   "source": [
    "num_output = Y.shape[1]\n",
    "num_iter = 150\n",
    "n_params = bounds.shape[0] + 1\n",
    "c_context = np.random.choice(context_list.flatten(), num_iter)[:,None]\n",
    "# c_context = np.random.uniform(lower, upper, size=(num_iter, 1))\n",
    "err = []\n",
    "for i in range(num_iter):\n",
    "    pareto = Pareto(np.empty((0, num_output)))\n",
    "    reference = np.ones((1, num_output))\n",
    "    \n",
    "    gp_models = [GPy.models.GPRegression(X.copy(), Y[:,[j]].copy(), kernel= GPy.kern.Matern52(input_dim=n_params, ARD=True)) for j in range(Y.shape[1])]\n",
    "    for model in gp_models:\n",
    "        model.optimize()\n",
    "        \n",
    "    context_X = np.hstack((X[:,:-1], np.ones((len(X), 1)) * c_context[i]))\n",
    "    preds =  [m.predict(context_X) for m in gp_models]\n",
    "    context_Y, var = (np.concatenate(moment, 1) for moment in zip(*preds))\n",
    "    pareto.update(context_Y)\n",
    "    \n",
    "    pf = pareto.front\n",
    "    f = np.max(pf, axis=0, keepdims=True) - np.min(pf, axis=0, keepdims=True)\n",
    "    reference = np.max(pf, axis=0, keepdims=True) + 2 * f / pf.shape[0]\n",
    "    \n",
    "    # Calculating error part\n",
    "    context_idx = list(context_list).index(c_context[i])\n",
    "    current_pareto = pareto_set[context_idx]\n",
    "    number = 10; error = 0;\n",
    "    for n in range(number):\n",
    "        point = np.atleast_2d(sample_next_point(hypervolume_poi, gp_models, bounds, pareto, reference, num_output, c_context[i]))\n",
    "        point = np.hstack((point, np.ones((1,1)) * c_context[i]))\n",
    "        function_value = multi_func(np.atleast_2d(point))\n",
    "        distance = np.min(np.abs(current_pareto - function_value))\n",
    "        error += distance / number\n",
    "    err.append(error) \n",
    "\n",
    "    next_point = np.atleast_2d(sample_next_point(hypervolume_poi, gp_models, bounds, pareto, reference, num_output, c_context[i]))\n",
    "    next_point = np.hstack((next_point, np.ones((1,1)) * c_context[i]))\n",
    "    X = np.append(X, next_point, axis = 0)\n",
    "    function_value = multi_func(np.atleast_2d(next_point))\n",
    "    Y = np.append(Y, function_value, axis = 0)\n",
    "    \n",
    "    plt.scatter(current_pareto[:,0], current_pareto[:,1], color = 'red')\n",
    "    plt.plot(context_Y[:,0], context_Y[:,1], 'kx')\n",
    "#     plt.scatter(Y[:,0], Y[:,1], color = 'green')\n",
    "    plt.scatter(function_value[:,0], function_value[:,1], color = 'yellow')\n",
    "    plt.scatter(pf[:,0], pf[:,1], color = 'skyblue')\n",
    "    plt.show()\n",
    "    "
   ]
  },
  {
   "cell_type": "code",
   "execution_count": null,
   "metadata": {},
   "outputs": [],
   "source": [
    "plt.figure(figsize=(9,5))\n",
    "plt.title('Input space')\n",
    "plt.xlabel('x')\n",
    "plt.ylabel('context')\n",
    "plt.scatter(opt_x, opt_y, marker = 's', color = 'red', label = 'optimal')\n",
    "plt.scatter(X[:init_sample][:,0], X[:init_sample][:,1], color = 'black', marker = 'x', label = 'inital sample')\n",
    "plt.scatter(X[init_sample:][:,0], X[init_sample:][:,1], color = 'mediumblue', label = 'BO points')\n",
    "plt.legend(loc = 2)\n",
    "plt.show()"
   ]
  },
  {
   "cell_type": "code",
   "execution_count": null,
   "metadata": {},
   "outputs": [],
   "source": [
    "# selected_c = np.random.uniform(lower, upper)\n",
    "selected_c = np.random.choice(context_list.flatten())\n",
    "# selected_c = 1.5\n",
    "print('selected c:', selected_c)\n",
    "cont_X = np.linspace(lower,upper,1001)\n",
    "cont_Y = np.ones(len(cont_X)) * selected_c\n",
    "\n",
    "new_X = np.hstack((X[:, :-1], np.ones((len(X),1)) * selected_c))\n",
    "preds =  [m.predict(new_X) for m in gp_models]\n",
    "new_Y, var = (np.concatenate(moment, 1) for moment in zip(*preds))\n",
    "\n",
    "pareto = Pareto(np.empty((0,2)))\n",
    "f1f2 = multi_func(np.hstack((cont_X[:,None], cont_Y[:,None])))\n",
    "pareto.update(f1f2)\n",
    "current_x_in_c = [list(i) for i in X[init_sample:] if i[1] == selected_c]\n",
    "\n",
    "plt.figure(figsize=(9,5))\n",
    "plt.title('Function value space')\n",
    "plt.xlabel('f1', fontsize = 15)\n",
    "plt.ylabel('f2', fontsize = 15)\n",
    "# plt.ylim([0.995, 1.005])\n",
    "plt.scatter(f1f2[:,0], f1f2[:,1], label = 'function values')\n",
    "plt.scatter(pareto.front[:,0], pareto.front[:,1], color = 'red', label = 'pareto front of function values')\n",
    "plt.plot(new_Y[:,0], new_Y[:,1], 'kx', label = 'predicted value')\n",
    "if current_x_in_c:\n",
    "    current_y_in_c = multi_func(np.array(current_x_in_c))\n",
    "    plt.scatter(current_y_in_c[:,0], current_y_in_c[:,1], color = 'yellow')\n",
    "plt.legend(loc = 2)\n",
    "plt.show()\n",
    "\n"
   ]
  },
  {
   "cell_type": "code",
   "execution_count": null,
   "metadata": {},
   "outputs": [],
   "source": [
    "plt.figure(figsize=(9,5))\n",
    "plt.title('Convergence')\n",
    "plt.xlabel('Trial', fontsize = 15)\n",
    "plt.ylabel('Error', fontsize = 15)\n",
    "plt.plot(err, label = 'error')\n",
    "plt.legend(loc = 2)\n",
    "plt.show()"
   ]
  },
  {
   "cell_type": "code",
   "execution_count": null,
   "metadata": {},
   "outputs": [],
   "source": []
  }
 ],
 "metadata": {
  "kernelspec": {
   "display_name": "Python 3",
   "language": "python",
   "name": "python3"
  },
  "language_info": {
   "codemirror_mode": {
    "name": "ipython",
    "version": 3
   },
   "file_extension": ".py",
   "mimetype": "text/x-python",
   "name": "python",
   "nbconvert_exporter": "python",
   "pygments_lexer": "ipython3",
   "version": "3.5.2"
  }
 },
 "nbformat": 4,
 "nbformat_minor": 2
}
