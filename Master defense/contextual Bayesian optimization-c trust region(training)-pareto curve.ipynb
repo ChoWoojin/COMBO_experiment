{
 "cells": [
  {
   "cell_type": "markdown",
   "metadata": {},
   "source": [
    "# Wind Farm Power Prediction"
   ]
  },
  {
   "cell_type": "code",
   "execution_count": 1,
   "metadata": {},
   "outputs": [],
   "source": [
    "# load modules (install floris)\n",
    "from floris.floris import Floris\n",
    "import numpy as np\n",
    "import matplotlib.pyplot as plt\n",
    "import scipy\n",
    "import gpflow\n",
    "import GPy\n",
    "import random\n",
    "import seaborn as sns\n",
    "sns.set()\n",
    "# Visualization\n",
    "from copy import deepcopy\n",
    "from visualization_manager import VisualizationManager\n",
    "from pareto import Pareto\n",
    "\n",
    "from scipy.optimize import minimize\n",
    "from scipy.stats import norm\n",
    "from pareto import Pareto\n",
    "%matplotlib inline"
   ]
  },
  {
   "cell_type": "markdown",
   "metadata": {},
   "source": [
    "# Define Wind Farm Power Calculator\n",
    "## inputs are:\n",
    "floris object (that will be initiated with wind farm configuations, i.e., number of WT, locations)\n",
    "\n",
    "wd (wind direction)\n",
    "\n",
    "ws (wind speed)\n",
    "\n",
    "yawAngle (action vector whose dimension is the number of wind turbines) "
   ]
  },
  {
   "cell_type": "code",
   "execution_count": 2,
   "metadata": {},
   "outputs": [],
   "source": [
    "def windFarmPower(floris,wd, ws, yawAngle,scale):\n",
    "    \n",
    "    #set up wind direction and speed\n",
    "    floris.farm.flow_field.wind_direction = np.radians(wd - 270) # frame of reference is west\n",
    "    floris.farm.flow_field.wind_speed = ws\n",
    "    floris.farm.flow_field.initial_flowfield = floris.farm.flow_field._initial_flowfield()\n",
    "    floris.farm.flow_field.u_field = floris.farm.flow_field._initial_flowfield()\n",
    "    \n",
    "    \n",
    "    turbines    = [turbine for _, turbine in floris.farm.flow_field.turbine_map.items()]\n",
    "    for k,turbine in enumerate(turbines):\n",
    "        turbine.yaw_angle = np.radians(yawAngle[k])\n",
    "    floris.farm.flow_field.calculate_wake()\n",
    "    \n",
    "    power = np.zeros([len(yawAngle),1])\n",
    "    totalPower = 0.0\n",
    "    for i, turbine in enumerate(turbines):\n",
    "        power[i]=turbine.power\n",
    "        totalPower = totalPower + turbine.power    \n",
    "    \n",
    "    return power/scale, totalPower/scale/len(turbines)"
   ]
  },
  {
   "cell_type": "markdown",
   "metadata": {},
   "source": [
    "# Compute the maximum wind turbine power using single wind turbine "
   ]
  },
  {
   "cell_type": "code",
   "execution_count": 3,
   "metadata": {},
   "outputs": [
    {
     "name": "stdout",
     "output_type": "stream",
     "text": [
      "(0.0, 0.0):\n",
      "\tCp - 0.46328782548262326\n",
      "\tCt - 0.7661304442831962\n",
      "\tpower - 1712005.1679717556\n",
      "\tai - 0.2581996920407235\n",
      "\taverage velocity - 7.85065163365446\n"
     ]
    }
   ],
   "source": [
    "#run wind farm configuration input with a single wind turbine\n",
    "floris = Floris(\"example_input_single.json\")\n",
    "numWT = 1\n",
    "scale = 1.0\n",
    "#conventional default input is yawAngle = 0 degree\n",
    "yawAngle0 = np.zeros(numWT)\n",
    "\n",
    "#compute the wind turbine power vector and total wind farm power (for single wind turbine they are the same)\n",
    "powerSingle,totalPower = windFarmPower(floris,0, 8, yawAngle0,scale)\n",
    "\n",
    "for coord, turbine in floris.farm.turbine_map.items():\n",
    "    print(str(coord) + \":\")\n",
    "    print(\"\\tCp -\", turbine.Cp)\n",
    "    print(\"\\tCt -\", turbine.Ct)\n",
    "    print(\"\\tpower -\", turbine.power)\n",
    "    print(\"\\tai -\", turbine.aI)\n",
    "    print(\"\\taverage velocity -\", turbine.get_average_velocity())"
   ]
  },
  {
   "cell_type": "markdown",
   "metadata": {},
   "source": [
    "## Setup Wind Farm Layout\n",
    "### Open \"example_input_double.json\" and look at how the wind farm is defined"
   ]
  },
  {
   "cell_type": "code",
   "execution_count": 4,
   "metadata": {
    "scrolled": false
   },
   "outputs": [],
   "source": [
    "floris = Floris(\"example_input_double.json\")"
   ]
  },
  {
   "cell_type": "markdown",
   "metadata": {},
   "source": [
    "# Compute the power vector and total wind farm power"
   ]
  },
  {
   "cell_type": "code",
   "execution_count": 5,
   "metadata": {},
   "outputs": [
    {
     "data": {
      "text/plain": [
       "array([[0.99999909]])"
      ]
     },
     "execution_count": 5,
     "metadata": {},
     "output_type": "execute_result"
    }
   ],
   "source": [
    "wd=180;\n",
    "ws=8;\n",
    "num_tur = len(floris.farm.flow_field.turbine_map.items())\n",
    "yawAngle=np.ones(num_tur)*0.01\n",
    "power, totalPower = windFarmPower(floris, wd, 8, yawAngle, powerSingle)\n",
    "totalPower"
   ]
  },
  {
   "cell_type": "markdown",
   "metadata": {},
   "source": [
    "# Compare the greedy control and cooperative control (optimized yaw angle vector)"
   ]
  },
  {
   "cell_type": "code",
   "execution_count": 6,
   "metadata": {},
   "outputs": [],
   "source": [
    "def hypervolume_poi(Xcand, gp_models, pareto, reference, outdim, wind_dir):\n",
    "    Xcand = np.atleast_2d(Xcand)\n",
    "    Xcand = np.hstack((Xcand, np.ones((len(Xcand), 1)) * wind_dir))\n",
    "    num_cells = pareto.bounds.lb.shape[0]\n",
    "    N = Xcand.shape[0]\n",
    "\n",
    "    # Extended Pareto front\n",
    "    pf_ext = np.concatenate([-np.inf * np.ones([1, outdim], dtype=float), pareto.front, reference], 0)\n",
    "\n",
    "    # Predictions for candidates, concatenate columns\n",
    "    preds = [m.predict(Xcand) for m in gp_models]\n",
    "    candidate_mean, candidate_var = (np.concatenate(moment, 1) for moment in zip(*preds))\n",
    "    candidate_var = np.maximum(candidate_var, 1e-6)  # avoid zeros\n",
    "\n",
    "    # Calculate the cdf's for all candidates for every predictive distribution in the data points\n",
    "    normal = scipy.stats.norm(candidate_mean, np.sqrt(candidate_var))\n",
    "    Phi = np.transpose(normal.cdf(np.expand_dims(pf_ext, 1)), [1, 0, 2])  # N x pf_ext_size x outdim\n",
    "    # tf.gather_nd indices for bound points\n",
    "    col_idx = np.tile(range(outdim), (num_cells,))\n",
    "    ub_idx = np.stack((np.reshape(pareto.bounds.ub, [-1]), col_idx), axis=1).astype(int)  # (num_cells*outdim x 2)\n",
    "    lb_idx = np.stack((np.reshape(pareto.bounds.lb, [-1]), col_idx), axis=1).astype(int)  # (num_cells*outdim x 2)\n",
    "    \n",
    "    # Calculate PoI\n",
    "    P1 = np.zeros((N, num_cells*outdim))\n",
    "    P2 = np.zeros((N, num_cells*outdim))\n",
    "    for i in range(len(ub_idx)):\n",
    "        for k in range(N):\n",
    "            P1[k,i] = np.transpose(Phi, [1, 2, 0])[ub_idx[i][0],ub_idx[i][1], k]  # N x num_cell*outdim\n",
    "            P2[k,i] = np.transpose(Phi, [1, 2, 0])[lb_idx[i][0],lb_idx[i][1], k]  # N x num_cell*outdim\n",
    "    P = np.reshape(P1 - P2, [N, num_cells, outdim])\n",
    "    PoI = np.sum(np.prod(P, axis=2), axis=1, keepdims=True)  # N x 1\n",
    "\n",
    "    # Calculate Hypervolume contribution of points Y\n",
    "    ub_points = np.zeros((1, num_cells*outdim))\n",
    "    lb_points = np.zeros((1, num_cells*outdim))\n",
    "    for i in range(len(ub_idx)):\n",
    "        ub_points[0,i] = pf_ext[ub_idx[i][0],ub_idx[i][1]]\n",
    "        lb_points[0,i] = pf_ext[lb_idx[i][0],lb_idx[i][1]]\n",
    "    ub_points = np.reshape(ub_points, [num_cells, outdim])\n",
    "    lb_points = np.reshape(lb_points, [num_cells, outdim])\n",
    "\n",
    "    splus_valid = np.all(np.tile(np.expand_dims(ub_points, 1), [1, N, 1]) > candidate_mean,\n",
    "                                axis=2)  # num_cells x N\n",
    "    splus_idx = np.expand_dims(splus_valid.astype(np.float64), -1)  # num_cells x N x 1\n",
    "    splus_lb = np.tile(np.expand_dims(lb_points, 1), [1, N, 1])  # num_cells x N x outdim\n",
    "    splus_lb = np.maximum(splus_lb, candidate_mean)  # num_cells x N x outdim\n",
    "    splus_ub = np.tile(np.expand_dims(ub_points, 1), [1, N, 1])  # num_cells x N x outdim\n",
    "    splus = np.concatenate([splus_idx, splus_ub - splus_lb], axis=2)  # num_cells x N x (outdim+1)\n",
    "    Hv = np.transpose(np.sum(np.prod(splus, axis=2), axis=0, keepdims=True))  # N x 1\n",
    "    \n",
    "    # return HvPoI\n",
    "    return -np.multiply(Hv, PoI)"
   ]
  },
  {
   "cell_type": "code",
   "execution_count": 7,
   "metadata": {},
   "outputs": [],
   "source": [
    "def sample_next_point(acquisition, gp_model, bounds, pareto, reference, outdim, wind_dir, N_mc = 5000):\n",
    "    \"\"\"\n",
    "    acquisition : acquisition function of Gaussian processes\n",
    "    gp_model : gpflow Gaussian process model\n",
    "    eval_y : evaluated y list in current state\n",
    "    bounds : boundary of next point\n",
    "    n_restarts : number of restarts for scipy.minimize\n",
    "    \n",
    "    return : next x    \n",
    "    \"\"\"\n",
    "    best_x = None\n",
    "    best_acquisition_value = 0\n",
    "    n_params = bounds.shape[0]\n",
    "    points = np.random.uniform(bounds[:, 0], bounds[:, 1], size=(N_mc, n_params))\n",
    "    evaluations = acquisition(points, gp_model, pareto, reference, outdim, wind_dir)\n",
    "    idx_best = np.argmin(evaluations, axis=0)\n",
    "    \n",
    "    result = minimize(fun=acquisition, x0=points[idx_best, :], bounds=bounds, method='L-BFGS-B',args=(gp_model, pareto, reference, outdim, wind_dir))\n",
    "    if result.fun <= best_acquisition_value:\n",
    "        best_acquisition_value = result.fun\n",
    "        best_x = result.x\n",
    "\n",
    "    return best_x"
   ]
  },
  {
   "cell_type": "code",
   "execution_count": 8,
   "metadata": {},
   "outputs": [],
   "source": [
    "def multiobj_f(yawangle):\n",
    "    Y1 = np.zeros(len(yawangle))[:,None]\n",
    "    Y2 = np.zeros(len(yawangle))[:,None]\n",
    "    for i,angle in enumerate(yawangle):\n",
    "        power,totalPower = windFarmPower(floris, angle[-1], 8, angle[:-1], powerSingle)\n",
    "        Y1[i] = -totalPower\n",
    "        Y2[i] = np.sum(np.square(np.radians(angle[:-1]))) / np.square(np.radians(25.0)) / num_tur\n",
    "    Y = np.hstack((Y1,Y2))\n",
    "    return Y"
   ]
  },
  {
   "cell_type": "code",
   "execution_count": 9,
   "metadata": {},
   "outputs": [],
   "source": [
    "minimum_yaw_angle = 0.0\n",
    "maximum_yaw_angle = 25.0\n",
    "\n",
    "bounds = np.zeros((num_tur, 2))\n",
    "for i in range(num_tur):\n",
    "    bounds[i,:] = [minimum_yaw_angle, maximum_yaw_angle]\n",
    "# number of turbines + wind context\n",
    "n_params = bounds.shape[0]+1"
   ]
  },
  {
   "cell_type": "code",
   "execution_count": 10,
   "metadata": {},
   "outputs": [
    {
     "data": {
      "text/plain": [
       "91.66815992596932"
      ]
     },
     "execution_count": 10,
     "metadata": {},
     "output_type": "execute_result"
    }
   ],
   "source": [
    "lower = 90\n",
    "upper = 110\n",
    "target_c = np.random.uniform(90,110)\n",
    "# target_c = 100.7\n",
    "target_c"
   ]
  },
  {
   "cell_type": "code",
   "execution_count": 11,
   "metadata": {},
   "outputs": [],
   "source": [
    "# Generate context\n",
    "def generate_context(lower, upper, c, length):\n",
    "    con = [int(c)]\n",
    "    for i in range(length-1):\n",
    "        prob = np.random.uniform(0,1)\n",
    "        if prob >= 0.5:\n",
    "            if con[-1] + 1 > upper:\n",
    "                new_c = con[-1] - 1\n",
    "            else:\n",
    "                new_c = con[-1] + 1      \n",
    "        else:\n",
    "            if con[-1] - 1 < lower:\n",
    "                new_c = con[-1] + 1      \n",
    "            else:\n",
    "                new_c = con[-1] - 1\n",
    "        con.append(new_c)\n",
    "    return np.array(con)[:,None]"
   ]
  },
  {
   "cell_type": "code",
   "execution_count": 12,
   "metadata": {},
   "outputs": [
    {
     "data": {
      "text/plain": [
       "[<matplotlib.lines.Line2D at 0x7feef5a1aac8>]"
      ]
     },
     "execution_count": 12,
     "metadata": {},
     "output_type": "execute_result"
    },
    {
     "data": {
      "image/png": "[encoded data removed]",
      "text/plain": [
       "<Figure size 432x288 with 1 Axes>"
      ]
     },
     "metadata": {
      "needs_background": "light"
     },
     "output_type": "display_data"
    }
   ],
   "source": [
    "plt.plot(generate_context(lower,upper,target_c,100))"
   ]
  },
  {
   "cell_type": "code",
   "execution_count": 13,
   "metadata": {},
   "outputs": [],
   "source": [
    "# pareto_set of function value space\n",
    "pareto_set = []\n",
    "x1_coord = np.arange(0, 25, 0.2)\n",
    "x2_coord = np.arange(0, 25, 0.2)\n",
    "x1, x2 = np.meshgrid(x1_coord, x2_coord)\n",
    "con_X = np.hstack((x1.flatten()[:,None], x2.flatten()[:,None]))\n",
    "con_Y = np.ones((len(con_X), 1)) * target_c\n",
    "pareto = Pareto(np.empty((0,2)))\n",
    "    \n",
    "f1f2 = multiobj_f(np.hstack((con_X, con_Y)))\n",
    "pareto.update(f1f2)\n",
    "opt_pareto = pareto.front"
   ]
  },
  {
   "cell_type": "code",
   "execution_count": 14,
   "metadata": {},
   "outputs": [],
   "source": [
    "# initial data point of wind-farm\n",
    "init_sample = 1\n",
    "\n",
    "wd_init = generate_context(lower, upper, target_c, init_sample)\n",
    "X = np.zeros((init_sample, bounds.shape[0]))\n",
    "for i, yawangles in enumerate(np.random.uniform(bounds[:, 0], bounds[:, 1], (init_sample, bounds.shape[0]))):\n",
    "    X[i,:] = yawangles\n",
    "X = np.hstack((X, wd_init))\n",
    "Y = multiobj_f(X)"
   ]
  },
  {
   "cell_type": "code",
   "execution_count": 15,
   "metadata": {
    "scrolled": true
   },
   "outputs": [
    {
     "name": "stderr",
     "output_type": "stream",
     "text": [
      " /home/cwj/venv/local/lib/python3.5/site-packages/GPy/kern/src/stationary.py:137: RuntimeWarning:overflow encountered in square\n",
      " /home/cwj/venv/local/lib/python3.5/site-packages/GPy/kern/src/stationary.py:138: RuntimeWarning:invalid value encountered in add\n",
      " /home/cwj/venv/local/lib/python3.5/site-packages/GPy/kern/src/stationary.py:166: RuntimeWarning:overflow encountered in true_divide\n",
      " /home/cwj/venv/local/lib/python3.5/site-packages/GPy/kern/src/stationary.py:551: RuntimeWarning:invalid value encountered in multiply\n",
      " /home/cwj/venv/local/lib/python3.5/site-packages/GPy/kern/src/stationary.py:554: RuntimeWarning:invalid value encountered in subtract\n",
      " /home/cwj/venv/local/lib/python3.5/site-packages/GPy/kern/src/stationary.py:244: RuntimeWarning:invalid value encountered in true_divide\n",
      " /home/cwj/venv/local/lib/python3.5/site-packages/GPy/kern/src/stationary.py:551: RuntimeWarning:overflow encountered in multiply\n",
      " /home/cwj/venv/local/lib/python3.5/site-packages/GPy/kern/src/stationary.py:554: RuntimeWarning:overflow encountered in multiply\n",
      " /home/cwj/venv/local/lib/python3.5/site-packages/GPy/kern/src/stationary.py:554: RuntimeWarning:invalid value encountered in multiply\n",
      " /home/cwj/venv/local/lib/python3.5/site-packages/GPy/kern/src/stationary.py:138: RuntimeWarning:overflow encountered in multiply\n",
      " /home/cwj/venv/local/lib/python3.5/site-packages/GPy/kern/src/stationary.py:138: RuntimeWarning:overflow encountered in add\n"
     ]
    }
   ],
   "source": [
    "num_output = Y.shape[1]\n",
    "num_iter = 200\n",
    "wd_context = generate_context(lower, upper, target_c, num_iter)\n",
    "\n",
    "for i in range(num_iter):\n",
    "    pareto = Pareto(np.empty((0, num_output)))\n",
    "    reference = np.ones((1, num_output))\n",
    "    \n",
    "    gp_models = [GPy.models.GPRegression(X.copy(), Y[:,[i]].copy(), kernel= GPy.kern.Matern52(input_dim=n_params, ARD=True)) for i in range(Y.shape[1])]\n",
    "    for m in gp_models:\n",
    "        m.optimize()\n",
    "\n",
    "    trusted_X = np.array([X[j] for j in range(len(X)) if wd_context[i]-30 <= X[j,-1] <= wd_context[i]+30])\n",
    "    context_X = np.hstack((trusted_X[:,:-1], np.ones((len(trusted_X), 1)) * wd_context[i]))\n",
    "    preds =  [m.predict(context_X) for m in gp_models]\n",
    "    context_Y, var = (np.concatenate(moment, 1) for moment in zip(*preds))\n",
    "    pareto.update(context_Y)\n",
    "    pf = pareto.front\n",
    "    f = np.max(pf, axis=0, keepdims=True) - np.min(pf, axis=0, keepdims=True)\n",
    "    reference = np.max(pf, axis=0, keepdims=True) + 2 * f / pf.shape[0]    \n",
    "    \n",
    "    next_x = np.atleast_2d(sample_next_point(hypervolume_poi, gp_models, bounds, pareto, reference, num_output, wd_context[i]))\n",
    "    next_point = np.hstack((next_x, np.ones((1,1)) * wd_context[i]))\n",
    "    X = np.append(X, next_point, axis = 0)\n",
    "    function_value = multiobj_f(np.atleast_2d(next_point))\n",
    "    Y = np.append(Y, function_value, axis = 0)\n",
    "    \n",
    "    \n",
    "    \n",
    "    pareto2 = Pareto(np.empty((0, num_output)))\n",
    "    reference2 = np.ones((1, num_output))\n",
    "\n",
    "    tar_X = np.hstack((trusted_X[:,:-1], np.ones((len(trusted_X), 1)) * target_c))\n",
    "    preds2 =  [m.predict(tar_X) for m in gp_models]\n",
    "    tar_Y, var = (np.concatenate(moment, 1) for moment in zip(*preds2))\n",
    "    pareto2.update(tar_Y)\n",
    "    pf2 = pareto2.front\n",
    "    f2 = np.max(pf2, axis=0, keepdims=True) - np.min(pf2, axis=0, keepdims=True)\n",
    "    reference2 = np.max(pf2, axis=0, keepdims=True) + 2 * f2 / pf2.shape[0]    \n",
    "    \n",
    "    virtual_next_x = np.atleast_2d(sample_next_point(hypervolume_poi, gp_models, bounds, pareto2, reference2, num_output, target_c))\n",
    "    virtual_next_point = np.hstack((virtual_next_x, np.ones((1,1)) * target_c))\n",
    "    virtual_X = np.hstack((virtual_next_x, np.ones((1,1)) * target_c))\n",
    "    if i == 0:\n",
    "        virtual_Y = multiobj_f(np.atleast_2d(virtual_X))\n",
    "    else:\n",
    "        vir_Y = multiobj_f(np.atleast_2d(virtual_X))\n",
    "        virtual_Y = np.append(virtual_Y, vir_Y, axis = 0)"
   ]
  },
  {
   "cell_type": "code",
   "execution_count": 16,
   "metadata": {},
   "outputs": [
    {
     "name": "stdout",
     "output_type": "stream",
     "text": [
      "=====================================================================\n",
      "Optimizing wake redirection control...\n",
      "Number of parameters to optimize =  2\n",
      "=====================================================================\n"
     ]
    },
    {
     "data": {
      "text/plain": [
       "array([[0.70986865]])"
      ]
     },
     "execution_count": 16,
     "metadata": {},
     "output_type": "execute_result"
    }
   ],
   "source": [
    "import OptModules  # modules used for optimizing FLORIS\n",
    "import imp\n",
    "\n",
    "imp.reload(OptModules)\n",
    "optangle1 = OptModules.wake_steering(floris,minimum_yaw_angle,maximum_yaw_angle)\n",
    "opt_p, opt_total_p = windFarmPower(floris, target_c, 8, np.degrees(optangle1), powerSingle)\n",
    "opt_total_p"
   ]
  },
  {
   "cell_type": "code",
   "execution_count": 17,
   "metadata": {},
   "outputs": [],
   "source": [
    "power_opt = np.array([[-opt_total_p, np.sum(np.square(np.radians(optangle1))) / np.square(np.radians(25.0)) / num_tur]])\n",
    "_, k = windFarmPower(floris, target_c, 8, np.degrees([0,0]), powerSingle)\n",
    "angle_opt = np.array([[-k, 0]])\n",
    "\n",
    "opt_pareto1 = np.append(opt_pareto, power_opt, axis = 0)\n",
    "opt_pareto1 = np.append(opt_pareto1, angle_opt, axis = 0)"
   ]
  },
  {
   "cell_type": "code",
   "execution_count": 18,
   "metadata": {},
   "outputs": [
    {
     "data": {
      "image/png": "[encoded data removed]",
      "text/plain": [
       "<Figure size 648x360 with 1 Axes>"
      ]
     },
     "metadata": {
      "needs_background": "light"
     },
     "output_type": "display_data"
    }
   ],
   "source": [
    "plt.figure(figsize=(9,5))\n",
    "plt.title('Virtual data for target context', fontsize = 15)\n",
    "plt.xlabel('f1', fontsize = 15)\n",
    "plt.ylabel('f2', fontsize = 15)\n",
    "plt.plot(opt_pareto[:,0], opt_pareto[:,1], color = 'black', label = 'opt_pareto_curve')\n",
    "plt.scatter(virtual_Y[:,0], virtual_Y[:,1], s =10, color = 'blue', label = 'function value')\n",
    "plt.legend(loc=2)\n",
    "plt.show()"
   ]
  },
  {
   "cell_type": "code",
   "execution_count": 27,
   "metadata": {},
   "outputs": [
    {
     "name": "stdout",
     "output_type": "stream",
     "text": [
      "[0.5 0.  1.  1. ]\n",
      "[0.48431373 0.02463745 0.99992411 1.        ]\n",
      "[0.46078431 0.06156091 0.99952572 1.        ]\n",
      "[0.44509804 0.08613294 0.99907048 1.        ]\n",
      "[0.42156863 0.12288829 0.99810333 1.        ]\n",
      "[0.40588235 0.1473017  0.99726917 1.        ]\n",
      "[0.38235294 0.18374952 0.99573418 1.        ]\n",
      "[0.35882353 0.21994636 0.99385914 1.        ]\n",
      "[0.34313725 0.24391372 0.99242051 1.        ]\n",
      "[0.31960784 0.27958259 0.98998021 1.        ]\n",
      "[0.30392157 0.30315267 0.98816547 1.        ]\n",
      "[0.28039216 0.33815827 0.98516223 1.        ]\n",
      "[0.25686275 0.37270199 0.98182256 1.        ]\n",
      "[0.24117647 0.39545121 0.97940977 1.        ]\n",
      "[0.21764706 0.42912061 0.97551197 1.        ]\n",
      "[0.20196078 0.45124406 0.97272827 1.        ]\n",
      "[0.17843137 0.48391142 0.96827604 1.        ]\n",
      "[0.1627451  0.50532518 0.96512409 1.        ]\n",
      "[0.13921569 0.5368666  0.96012165 1.        ]\n",
      "[0.11568627 0.56767472 0.95479132 1.        ]\n",
      "[0.1        0.58778525 0.95105652 1.        ]\n",
      "[0.07647059 0.61727822 0.94518383 1.        ]\n",
      "[0.06078431 0.63647424 0.94108925 1.        ]\n",
      "[0.0372549  0.66454018 0.93467977 1.        ]\n",
      "[0.01372549 0.69169844 0.92795109 1.        ]\n",
      "[0.00196078 0.70928131 0.92328911 1.        ]\n",
      "[0.0254902  0.73484497 0.9160336  1.        ]\n",
      "[0.04117647 0.75133189 0.91102265 1.        ]\n",
      "[0.06470588 0.77520398 0.9032472  1.        ]\n",
      "[0.08039216 0.79053241 0.89789203 1.        ]\n",
      "[0.10392157 0.81262237 0.88960401 1.        ]\n",
      "[0.12745098 0.83360239 0.88101219 1.        ]\n",
      "[0.14313725 0.84695821 0.87511698 1.        ]\n",
      "[0.16666667 0.8660254  0.8660254  1.        ]\n",
      "[0.18235294 0.87808125 0.85979985 1.        ]\n",
      "[0.20588235 0.89516329 0.85021714 1.        ]\n",
      "[0.22941176 0.91102265 0.84034407 1.        ]\n",
      "[0.24509804 0.92090552 0.83360239 1.        ]\n",
      "[0.26862745 0.93467977 0.82325295 1.        ]\n",
      "[0.28431373 0.94315443 0.81619691 1.        ]\n",
      "[0.30784314 0.95479132 0.80538092 1.        ]\n",
      "[0.33137255 0.96512409 0.79428989 1.        ]\n",
      "[0.34705882 0.97128103 0.78674494 1.        ]\n",
      "[0.37058824 0.97940977 0.77520398 1.        ]\n",
      "[0.38627451 0.98408634 0.76736268 1.        ]\n",
      "[0.40980392 0.98998021 0.75538273 1.        ]\n",
      "[0.4254902  0.99315867 0.74725253 1.        ]\n",
      "[0.44901961 0.99679532 0.73484497 1.        ]\n",
      "[0.47254902 0.99907048 0.72218645 1.        ]\n",
      "[0.48823529 0.99982925 0.71361015 1.        ]\n",
      "[0.51176471 0.99982925 0.70054304 1.        ]\n",
      "[0.52745098 0.99907048 0.69169844 1.        ]\n",
      "[0.55098039 0.99679532 0.67823512 1.        ]\n",
      "[0.5745098  0.99315867 0.66454018 1.        ]\n",
      "[0.59019608 0.98998021 0.65528385 1.        ]\n",
      "[0.61372549 0.98408634 0.64121331 1.        ]\n",
      "[0.62941176 0.97940977 0.63171101 1.        ]\n",
      "[0.65294118 0.97128103 0.61727822 1.        ]\n",
      "[0.66862745 0.96512409 0.60753895 1.        ]\n",
      "[0.69215686 0.95479132 0.5927576  1.        ]\n",
      "[0.71568627 0.94315443 0.57777383 1.        ]\n",
      "[0.73137255 0.93467977 0.56767472 1.        ]\n",
      "[0.75490196 0.92090552 0.55236497 1.        ]\n",
      "[0.77058824 0.91102265 0.54205336 1.        ]\n",
      "[0.79411765 0.89516329 0.52643216 1.        ]\n",
      "[0.81764706 0.87808125 0.51063119 1.        ]\n",
      "[0.83333333 0.8660254  0.5        1.        ]\n",
      "[0.85686275 0.84695821 0.48391142 1.        ]\n",
      "[0.87254902 0.83360239 0.47309356 1.        ]\n",
      "[0.89607843 0.81262237 0.45673264 1.        ]\n",
      "[0.91960784 0.79053241 0.44021574 1.        ]\n",
      "[0.93529412 0.77520398 0.42912061 1.        ]\n",
      "[0.95882353 0.75133189 0.41235632 1.        ]\n",
      "[0.9745098  0.73484497 0.40110153 1.        ]\n",
      "[0.99803922 0.70928131 0.38410575 1.        ]\n",
      "[1.         0.69169844 0.37270199 1.        ]\n",
      "[1.         0.66454018 0.35549083 1.        ]\n",
      "[1.         0.63647424 0.33815827 1.        ]\n",
      "[1.         0.61727822 0.32653871 1.        ]\n",
      "[1.         0.58778525 0.30901699 1.        ]\n",
      "[1.         0.56767472 0.29727685 1.        ]\n",
      "[1.         0.5368666  0.27958259 1.        ]\n",
      "[1.         0.50532518 0.26179286 1.        ]\n",
      "[1.         0.48391142 0.24988299 1.        ]\n",
      "[1.         0.45124406 0.23194764 1.        ]\n",
      "[1.         0.42912061 0.21994636 1.        ]\n",
      "[1.         0.39545121 0.20188241 1.        ]\n",
      "[1.         0.37270199 0.18980109 1.        ]\n",
      "[1.         0.33815827 0.17162568 1.        ]\n",
      "[1.         0.30315267 0.15339165 1.        ]\n",
      "[1.         0.27958259 0.14120615 1.        ]\n",
      "[1.         0.24391372 0.12288829 1.        ]\n",
      "[1.         0.21994636 0.11065268 1.        ]\n",
      "[1.         0.18374952 0.09226836 1.        ]\n",
      "[1.         0.1473017  0.07385253 1.        ]\n",
      "[1.         0.12288829 0.06156091 1.        ]\n",
      "[1.         0.08613294 0.04310654 1.        ]\n",
      "[1.         0.06156091 0.03079506 1.        ]\n",
      "[1.         0.02463745 0.01231966 1.        ]\n",
      "[1.0000000e+00 1.2246468e-16 6.1232340e-17 1.0000000e+00]\n"
     ]
    },
    {
     "data": {
      "image/png": "[encoded data removed]",
      "text/plain": [
       "<Figure size 432x288 with 1 Axes>"
      ]
     },
     "metadata": {
      "needs_background": "light"
     },
     "output_type": "display_data"
    }
   ],
   "source": [
    "import matplotlib.cm as cm\n",
    "colors = cm.rainbow(np.linspace(0, 1, len(virtual_Y)))\n",
    "for y, c in zip(virtual_Y, colors):\n",
    "    print(c)\n",
    "    plt.scatter(virtual_Y[:,0], virtual_Y[:,1], color=c)\n",
    "plt.show()"
   ]
  },
  {
   "cell_type": "code",
   "execution_count": 17,
   "metadata": {},
   "outputs": [
    {
     "data": {
      "image/png": "[encoded data removed]",
      "text/plain": [
       "<Figure size 432x288 with 1 Axes>"
      ]
     },
     "metadata": {
      "needs_background": "light"
     },
     "output_type": "display_data"
    }
   ],
   "source": [
    "plt.scatter(f1f2[:,0], f1f2[:,1])\n",
    "plt.show()"
   ]
  },
  {
   "cell_type": "code",
   "execution_count": 29,
   "metadata": {},
   "outputs": [
    {
     "data": {
      "image/png": "[encoded data removed]",
      "text/plain": [
       "<Figure size 432x288 with 1 Axes>"
      ]
     },
     "metadata": {
      "needs_background": "light"
     },
     "output_type": "display_data"
    }
   ],
   "source": [
    "plt.plot(opt_pareto[:,0], opt_pareto[:,1], color = 'black', label = 'opt_pareto_curve')\n",
    "plt.show()"
   ]
  },
  {
   "cell_type": "code",
   "execution_count": 19,
   "metadata": {},
   "outputs": [
    {
     "data": {
      "image/png": "[encoded data removed]",
      "text/plain": [
       "<Figure size 648x360 with 1 Axes>"
      ]
     },
     "metadata": {
      "needs_background": "light"
     },
     "output_type": "display_data"
    }
   ],
   "source": [
    "err = []\n",
    "for i in range(len(virtual_Y)):\n",
    "    err.append(np.min(np.linalg.norm(opt_pareto - virtual_Y[i],axis=0)))\n",
    "cum_err = np.zeros(len(err))\n",
    "for i in range(len(err)):\n",
    "    cum_err[i] = np.sum(err[:i+1]) / (i+1)\n",
    "plt.figure(figsize=(9,5))\n",
    "plt.plot(cum_err)\n",
    "plt.xlabel('steps')\n",
    "plt.ylabel('error value')\n",
    "plt.show()"
   ]
  },
  {
   "cell_type": "code",
   "execution_count": null,
   "metadata": {},
   "outputs": [],
   "source": []
  }
 ],
 "metadata": {
  "anaconda-cloud": {},
  "kernelspec": {
   "display_name": "Python 3",
   "language": "python",
   "name": "python3"
  },
  "language_info": {
   "codemirror_mode": {
    "name": "ipython",
    "version": 3
   },
   "file_extension": ".py",
   "mimetype": "text/x-python",
   "name": "python",
   "nbconvert_exporter": "python",
   "pygments_lexer": "ipython3",
   "version": "3.5.2"
  }
 },
 "nbformat": 4,
 "nbformat_minor": 2
}
