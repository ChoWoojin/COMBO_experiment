{
 "cells": [
  {
   "cell_type": "code",
   "execution_count": 1,
   "metadata": {},
   "outputs": [],
   "source": [
    "# load modules (install floris)\n",
    "from floris.floris import Floris\n",
    "import matplotlib.pyplot as plt\n",
    "import numpy as np\n",
    "import scipy\n",
    "import GPy\n",
    "import random\n",
    "import time\n",
    "from visualization_manager import VisualizationManager\n",
    "from pygmo import hypervolume\n",
    "\n",
    "# Visualization\n",
    "from copy import deepcopy\n",
    "from pareto import Pareto\n",
    "from scipy.optimize import minimize\n",
    "from scipy.stats import norm\n",
    "from pareto import Pareto\n",
    "from BayesianOpt import *\n",
    "from pygmo import hypervolume\n",
    "%matplotlib inline"
   ]
  },
  {
   "cell_type": "code",
   "execution_count": 2,
   "metadata": {},
   "outputs": [],
   "source": [
    "def visualizeWake(floris,wd, ws, yawAngle):\n",
    "    floris.farm.flow_field.wind_direction = np.radians(wd-270) # frame of reference is west\n",
    "    floris.farm.flow_field.wind_speed = ws\n",
    "    floris.farm.flow_field.initial_flowfield = floris.farm.flow_field._initial_flowfield()\n",
    "    floris.farm.flow_field.u_field = floris.farm.flow_field._initial_flowfield()\n",
    "    turbines    = [turbine for _, turbine in floris.farm.flow_field.turbine_map.items()]\n",
    "    for k,turbine in enumerate(turbines):\n",
    "        turbine.yaw_angle = np.radians(yawAngle[k])\n",
    "    \n",
    "    ff_viz = deepcopy(floris.farm.flow_field)\n",
    "    plt.xlim([0,600])\n",
    "    grid_resolution = (100, 100, 25)\n",
    "    visualization_manager = VisualizationManager(ff_viz, grid_resolution)\n",
    "    visualization_manager.plot_z_planes([0.5])\n",
    "    "
   ]
  },
  {
   "cell_type": "code",
   "execution_count": 3,
   "metadata": {},
   "outputs": [],
   "source": [
    "def windFarmPower(floris,wd, ws, yawAngle,scale):\n",
    "    \n",
    "    #set up wind direction and speed\n",
    "    floris.farm.flow_field.wind_direction = np.radians(wd - 270) # frame of reference is west\n",
    "    floris.farm.flow_field.wind_speed = ws\n",
    "    floris.farm.flow_field.initial_flowfield = floris.farm.flow_field._initial_flowfield()\n",
    "    floris.farm.flow_field.u_field = floris.farm.flow_field._initial_flowfield()\n",
    "    \n",
    "    \n",
    "    turbines    = [turbine for _, turbine in floris.farm.flow_field.turbine_map.items()]\n",
    "    for k,turbine in enumerate(turbines):\n",
    "        turbine.yaw_angle = np.radians(yawAngle[k])\n",
    "    floris.farm.flow_field.calculate_wake()\n",
    "    \n",
    "    power = np.zeros([len(yawAngle),1])\n",
    "    totalPower = 0.0\n",
    "    for i, turbine in enumerate(turbines):\n",
    "        power[i]=turbine.power\n",
    "        totalPower = totalPower + turbine.power    \n",
    "    \n",
    "    return power/scale, totalPower/scale/len(turbines)\n",
    "\n",
    "#run wind farm configuration input with a single wind turbine\n",
    "floris = Floris(\"example_input_single.json\")\n",
    "numWT = 1\n",
    "scale = 1.0\n",
    "#conventional default input is yawAngle = 0 degree\n",
    "yawAngle0 = np.zeros(numWT)\n",
    "\n",
    "#compute the wind turbine power vector and total wind farm power (for single wind turbine they are the same)\n",
    "powerSingle,totalPower = windFarmPower(floris,0, 8, yawAngle0,scale)\n",
    "\n",
    "floris = Floris(\"example_input_9.json\")\n",
    "num_tur = len(floris.farm.flow_field.turbine_map.items())"
   ]
  },
  {
   "cell_type": "code",
   "execution_count": 4,
   "metadata": {},
   "outputs": [],
   "source": [
    "def expected_improvement(Xcand, gp_model, current_min, wind_dir):\n",
    "    Xcand = np.atleast_2d(Xcand)\n",
    "    Xcand = np.hstack((Xcand, np.ones((len(Xcand), 1)) * wind_dir))\n",
    "    mu, var = gp_model.predict(Xcand)\n",
    "    sigma = np.sqrt(var)\n",
    "    \n",
    "    Z = (current_min - mu) / sigma\n",
    "    ei = (current_min - mu) * norm.cdf(Z) + sigma * norm.pdf(Z)\n",
    "    \n",
    "    return -ei[0]\n",
    "\n",
    "def single_next_point(acquisition, gp_model, bounds, eval_y, wind_dir, N_mc = 5000):\n",
    "\n",
    "    best_x = None\n",
    "    best_acquisition_value = 0\n",
    "    n_params = bounds.shape[0]\n",
    "    current_min = np.min(eval_y)\n",
    "    # Random 한 점을 많이 찍고 그 중 가장 acquisition ftn value가 높은 지점을 start 지점으로 삼아 scipy minimize 함수 작동\n",
    "    points = np.random.uniform(bounds[:, 0], bounds[:, 1], size=(N_mc, n_params))\n",
    "    evaluations = acquisition(points, gp_model, current_min, wind_dir)\n",
    "    idx_best = np.argmin(evaluations, axis=0)\n",
    "    \n",
    "    result = minimize(fun=acquisition, x0 = points[idx_best, :], bounds=bounds, method='L-BFGS-B',args=(gp_model, current_min, wind_dir))\n",
    "\n",
    "    if result.fun <= best_acquisition_value:\n",
    "        best_acquisition_value = result.fun\n",
    "        best_x = result.x\n",
    "\n",
    "    return best_x"
   ]
  },
  {
   "cell_type": "code",
   "execution_count": 5,
   "metadata": {},
   "outputs": [],
   "source": [
    "def multiobj_f(yawangle):\n",
    "    Y1 = np.zeros(len(yawangle))[:,None]\n",
    "    Y2 = np.zeros(len(yawangle))[:,None]\n",
    "    for i,angle in enumerate(yawangle):\n",
    "        power,totalPower = windFarmPower(floris, angle[-1], 8, angle[:-1], powerSingle)\n",
    "        Y1[i] = -totalPower\n",
    "        Y2[i] = np.sum(np.square(np.radians(angle[:-1]))) / np.square(np.radians(25.0)) / num_tur\n",
    "    Y = np.hstack((Y1,Y2))\n",
    "    return Y\n",
    "\n",
    "minimum_yaw_angle = 0.0\n",
    "maximum_yaw_angle = 25.0\n",
    "\n",
    "bounds = np.zeros((num_tur, 2))\n",
    "for i in range(num_tur):\n",
    "    bounds[i,:] = [minimum_yaw_angle, maximum_yaw_angle]\n",
    "    \n",
    "# number of turbines + wind context\n",
    "n_params = bounds.shape[0]+1"
   ]
  },
  {
   "cell_type": "code",
   "execution_count": 6,
   "metadata": {},
   "outputs": [],
   "source": [
    "current_wd = np.random.uniform(88,93)"
   ]
  },
  {
   "cell_type": "code",
   "execution_count": 7,
   "metadata": {},
   "outputs": [],
   "source": [
    "trial = 500\n",
    "ref_point = [0,1]"
   ]
  },
  {
   "cell_type": "markdown",
   "metadata": {},
   "source": [
    "# Random strategy"
   ]
  },
  {
   "cell_type": "code",
   "execution_count": 8,
   "metadata": {},
   "outputs": [
    {
     "name": "stderr",
     "output_type": "stream",
     "text": [
      " /home/cwj/venv/local/lib/python3.5/site-packages/floris/wake_velocity.py:226: RuntimeWarning:invalid value encountered in sqrt\n"
     ]
    }
   ],
   "source": [
    "uniform = np.random.uniform(bounds[:, 0], bounds[:, 1], size=(trial+2, bounds.shape[0]))\n",
    "initial_input = np.hstack((uniform[:2], np.ones((2,1))*current_wd))\n",
    "uniform_input = np.hstack((uniform, np.ones((trial+2,1))*current_wd))\n",
    "initial_output = multiobj_f(np.atleast_2d(initial_input))\n",
    "uniform_output = multiobj_f(np.atleast_2d(uniform_input))"
   ]
  },
  {
   "cell_type": "code",
   "execution_count": 9,
   "metadata": {},
   "outputs": [
    {
     "data": {
      "image/png": "[encoded data removed]",
      "text/plain": [
       "<Figure size 648x360 with 1 Axes>"
      ]
     },
     "metadata": {
      "needs_background": "light"
     },
     "output_type": "display_data"
    }
   ],
   "source": [
    "uni_volume = []\n",
    "for i in range(len(uniform_output)):\n",
    "    uni_hv = hypervolume(uniform_output[:i+1])\n",
    "    v = uni_hv.compute(ref_point)\n",
    "    uni_volume.append(v)\n",
    "plt.figure(figsize=(9,5))\n",
    "plt.plot(uni_volume)\n",
    "plt.show()"
   ]
  },
  {
   "cell_type": "code",
   "execution_count": 10,
   "metadata": {},
   "outputs": [
    {
     "data": {
      "image/png": "[encoded data removed]",
      "text/plain": [
       "<Figure size 432x288 with 1 Axes>"
      ]
     },
     "metadata": {
      "needs_background": "light"
     },
     "output_type": "display_data"
    }
   ],
   "source": [
    "plt.scatter(uniform_output[:,0], uniform_output[:,1])\n",
    "plt.show()"
   ]
  },
  {
   "cell_type": "markdown",
   "metadata": {},
   "source": [
    "# linear scalization"
   ]
  },
  {
   "cell_type": "code",
   "execution_count": 11,
   "metadata": {},
   "outputs": [],
   "source": [
    "def ls_f(yawangle):\n",
    "    Y = np.zeros(len(yawangle))[:,None]\n",
    "    for i,angle in enumerate(yawangle):\n",
    "        power,totalPower = windFarmPower(floris, angle[-1], 8, angle[:-1], powerSingle)\n",
    "        Y[i] = -totalPower/2 + np.sum(np.square(np.radians(angle[:-1]))) / np.square(np.radians(25.0)) / num_tur / 2\n",
    "    return Y"
   ]
  },
  {
   "cell_type": "code",
   "execution_count": 12,
   "metadata": {},
   "outputs": [
    {
     "name": "stderr",
     "output_type": "stream",
     "text": [
      " /home/cwj/venv/local/lib/python3.5/site-packages/GPy/core/gp.py:87: UserWarning:Your kernel has a different input dimension 9 then the given X dimension 10. Be very sure this is what you want and you have not forgotten to set the right input dimenion in your kernel\n",
      " /home/cwj/venv/local/lib/python3.5/site-packages/floris/wake_velocity.py:226: RuntimeWarning:invalid value encountered in sqrt\n"
     ]
    }
   ],
   "source": [
    "lin_input = np.atleast_2d(initial_input)\n",
    "lin_output = ls_f(lin_input) \n",
    "\n",
    "\n",
    "for i in range(trial):\n",
    "    gp_model = GPy.models.GPRegression(lin_input.copy(), lin_output.copy(), kernel= GPy.kern.RBF(input_dim=n_params-1, ARD=True))\n",
    "    gp_model.optimize()\n",
    "    \n",
    "    next_point = np.atleast_2d(single_next_point(expected_improvement, gp_model, bounds, lin_output, current_wd))\n",
    "    next_point = np.hstack((next_point, np.ones((1,1)) * current_wd))\n",
    "    lin_input = np.append(lin_input, next_point, axis = 0)\n",
    "    function_value = ls_f(np.atleast_2d(next_point))\n",
    "    lin_output = np.append(lin_output, function_value, axis = 0)"
   ]
  },
  {
   "cell_type": "code",
   "execution_count": 13,
   "metadata": {},
   "outputs": [
    {
     "name": "stderr",
     "output_type": "stream",
     "text": [
      " /home/cwj/venv/local/lib/python3.5/site-packages/floris/wake_velocity.py:226: RuntimeWarning:invalid value encountered in sqrt\n"
     ]
    }
   ],
   "source": [
    "lin_output = multiobj_f(np.atleast_2d(lin_input))"
   ]
  },
  {
   "cell_type": "code",
   "execution_count": 14,
   "metadata": {},
   "outputs": [
    {
     "data": {
      "image/png": "[encoded data removed]",
      "text/plain": [
       "<Figure size 648x360 with 1 Axes>"
      ]
     },
     "metadata": {
      "needs_background": "light"
     },
     "output_type": "display_data"
    }
   ],
   "source": [
    "lin_volume = []\n",
    "for i in range(len(lin_output)):\n",
    "    lin_hv = hypervolume(lin_output[:i+1])\n",
    "    v = lin_hv.compute(ref_point)\n",
    "    lin_volume.append(v)\n",
    "plt.figure(figsize=(9,5))\n",
    "plt.plot(lin_volume)\n",
    "plt.show()"
   ]
  },
  {
   "cell_type": "code",
   "execution_count": 15,
   "metadata": {},
   "outputs": [
    {
     "data": {
      "image/png": "[encoded data removed]",
      "text/plain": [
       "<Figure size 432x288 with 1 Axes>"
      ]
     },
     "metadata": {
      "needs_background": "light"
     },
     "output_type": "display_data"
    }
   ],
   "source": [
    "plt.scatter(lin_output[:,0], lin_output[:,1])\n",
    "plt.show()"
   ]
  },
  {
   "cell_type": "markdown",
   "metadata": {},
   "source": [
    "# No - preference method"
   ]
  },
  {
   "cell_type": "code",
   "execution_count": 16,
   "metadata": {},
   "outputs": [],
   "source": [
    "def nopre_f(yawangle):\n",
    "    opt = np.array([[-1, 0]])\n",
    "    Y = np.zeros(len(yawangle))[:,None]\n",
    "    for i,angle in enumerate(yawangle):\n",
    "        power,totalPower = windFarmPower(floris, angle[-1], 8, angle[:-1], powerSingle)\n",
    "        f = np.array([[-totalPower, np.sum(np.square(np.radians(angle[:-1]))) / np.square(np.radians(25.0)) / num_tur]])\n",
    "        Y[i] = np.linalg.norm(f)\n",
    "    return Y"
   ]
  },
  {
   "cell_type": "code",
   "execution_count": 17,
   "metadata": {},
   "outputs": [
    {
     "name": "stderr",
     "output_type": "stream",
     "text": [
      " /home/cwj/venv/local/lib/python3.5/site-packages/GPy/core/gp.py:87: UserWarning:Your kernel has a different input dimension 9 then the given X dimension 10. Be very sure this is what you want and you have not forgotten to set the right input dimenion in your kernel\n",
      " /home/cwj/venv/local/lib/python3.5/site-packages/floris/wake_velocity.py:226: RuntimeWarning:invalid value encountered in sqrt\n"
     ]
    }
   ],
   "source": [
    "no_input = np.atleast_2d(initial_input)\n",
    "no_output = nopre_f(no_input) \n",
    "\n",
    "\n",
    "for i in range(trial):\n",
    "    gp_model = GPy.models.GPRegression(no_input.copy(), no_output.copy(), kernel= GPy.kern.RBF(input_dim=n_params-1, ARD=True))\n",
    "    gp_model.optimize()\n",
    "    \n",
    "    next_point = np.atleast_2d(single_next_point(expected_improvement, gp_model, bounds, no_output, current_wd))\n",
    "    next_point = np.hstack((next_point, np.ones((1,1)) * current_wd))\n",
    "    no_input = np.append(no_input, next_point, axis = 0)\n",
    "    function_value = nopre_f(np.atleast_2d(next_point))\n",
    "    no_output = np.append(no_output, function_value, axis = 0)"
   ]
  },
  {
   "cell_type": "code",
   "execution_count": 18,
   "metadata": {},
   "outputs": [
    {
     "name": "stderr",
     "output_type": "stream",
     "text": [
      " /home/cwj/venv/local/lib/python3.5/site-packages/floris/wake_velocity.py:226: RuntimeWarning:invalid value encountered in sqrt\n"
     ]
    }
   ],
   "source": [
    "no_output = multiobj_f(np.atleast_2d(no_input))"
   ]
  },
  {
   "cell_type": "code",
   "execution_count": 19,
   "metadata": {},
   "outputs": [
    {
     "data": {
      "image/png": "[encoded data removed]",
      "text/plain": [
       "<Figure size 648x360 with 1 Axes>"
      ]
     },
     "metadata": {
      "needs_background": "light"
     },
     "output_type": "display_data"
    }
   ],
   "source": [
    "no_volume = []\n",
    "for i in range(len(no_output)):\n",
    "    no_hv = hypervolume(no_output[:i+1])\n",
    "    v = no_hv.compute(ref_point)\n",
    "    no_volume.append(v)\n",
    "plt.figure(figsize=(9,5))\n",
    "plt.plot(no_volume)\n",
    "plt.show()"
   ]
  },
  {
   "cell_type": "code",
   "execution_count": 20,
   "metadata": {
    "scrolled": true
   },
   "outputs": [
    {
     "data": {
      "image/png": "[encoded data removed]",
      "text/plain": [
       "<Figure size 432x288 with 1 Axes>"
      ]
     },
     "metadata": {
      "needs_background": "light"
     },
     "output_type": "display_data"
    }
   ],
   "source": [
    "plt.scatter(no_output[:,0], no_output[:,1])\n",
    "plt.show()"
   ]
  },
  {
   "cell_type": "markdown",
   "metadata": {},
   "source": [
    "# Multi-objective Bayesian optimization"
   ]
  },
  {
   "cell_type": "code",
   "execution_count": null,
   "metadata": {},
   "outputs": [
    {
     "name": "stderr",
     "output_type": "stream",
     "text": [
      " /home/cwj/venv/local/lib/python3.5/site-packages/GPy/core/gp.py:87: UserWarning:Your kernel has a different input dimension 9 then the given X dimension 10. Be very sure this is what you want and you have not forgotten to set the right input dimenion in your kernel\n",
      " /home/cwj/venv/local/lib/python3.5/site-packages/GPy/kern/src/stationary.py:166: RuntimeWarning:overflow encountered in true_divide\n",
      " /home/cwj/venv/local/lib/python3.5/site-packages/GPy/kern/src/stationary.py:138: RuntimeWarning:invalid value encountered in add\n",
      " /home/cwj/venv/local/lib/python3.5/site-packages/GPy/kern/src/stationary.py:137: RuntimeWarning:overflow encountered in square\n",
      " /home/cwj/venv/local/lib/python3.5/site-packages/GPy/kern/src/stationary.py:244: RuntimeWarning:invalid value encountered in true_divide\n",
      " /home/cwj/venv/local/lib/python3.5/site-packages/GPy/kern/src/rbf.py:54: RuntimeWarning:invalid value encountered in multiply\n",
      " /home/cwj/venv/local/lib/python3.5/site-packages/floris/wake_velocity.py:226: RuntimeWarning:invalid value encountered in sqrt\n",
      " /home/cwj/venv/local/lib/python3.5/site-packages/GPy/kern/src/stationary.py:138: RuntimeWarning:overflow encountered in multiply\n",
      " /home/cwj/venv/local/lib/python3.5/site-packages/GPy/kern/src/stationary.py:138: RuntimeWarning:overflow encountered in add\n"
     ]
    }
   ],
   "source": [
    "mbo_input = np.atleast_2d(initial_input)\n",
    "mbo_output = multiobj_f(mbo_input) \n",
    "\n",
    "num_output = mbo_output.shape[1]\n",
    "\n",
    "for i in range(trial):\n",
    "    pareto = Pareto(np.empty((0, num_output)))\n",
    "    reference = np.ones((1, num_output))\n",
    "    \n",
    "    gp_models = [GPy.models.GPRegression(mbo_input.copy(), mbo_output[:,[i]].copy(), kernel= GPy.kern.RBF(input_dim=n_params-1, ARD=True)) for i in range(mbo_output.shape[1])]\n",
    "    for m in gp_models:\n",
    "        m.optimize()\n",
    "      \n",
    "    pareto.update(mbo_output)\n",
    "    pf = pareto.front\n",
    "    f = np.max(pf, axis=0, keepdims=True) - np.min(pf, axis=0, keepdims=True)\n",
    "    reference = np.max(pf, axis=0, keepdims=True) + 2 * f / pf.shape[0]\n",
    "    \n",
    "\n",
    "    next_point = np.atleast_2d(sample_next_point(EHVI, gp_models, bounds, pareto, reference, num_output, current_wd))\n",
    "    next_point = np.hstack((next_point, np.ones((1,1)) * current_wd))\n",
    "    mbo_input = np.append(mbo_input, next_point, axis = 0)\n",
    "    function_value = multiobj_f(np.atleast_2d(next_point))\n",
    "    mbo_output = np.append(mbo_output, function_value, axis = 0)"
   ]
  },
  {
   "cell_type": "code",
   "execution_count": null,
   "metadata": {},
   "outputs": [],
   "source": [
    "mbo_volume = []\n",
    "for i in range(len(mbo_output)):\n",
    "    mbo_hv = hypervolume(mbo_output[:i+1])\n",
    "    v = mbo_hv.compute(ref_point)\n",
    "    mbo_volume.append(v)\n",
    "plt.figure(figsize=(9,5))\n",
    "plt.plot(mbo_volume)\n",
    "plt.show()"
   ]
  },
  {
   "cell_type": "code",
   "execution_count": null,
   "metadata": {},
   "outputs": [],
   "source": [
    "plt.scatter(mbo_output[:,0], mbo_output[:,1])\n",
    "plt.show()"
   ]
  },
  {
   "cell_type": "markdown",
   "metadata": {},
   "source": [
    "# Proposed algorithm"
   ]
  },
  {
   "cell_type": "code",
   "execution_count": null,
   "metadata": {
    "scrolled": true
   },
   "outputs": [],
   "source": [
    "cmbo_input = np.random.uniform(np.append(np.ones(num_tur)*0,90), np.append(np.ones(num_tur)*25,120), (1,n_params)) \n",
    "cmbo_output = multiobj_f(cmbo_input) \n",
    "\n",
    "context_list = np.random.uniform(90, 110, size=(150, 1))\n",
    "reference = np.array([[0, 1]])\n",
    "num_output = cmbo_output.shape[1]\n",
    "\n",
    "for i in range(len(context_list)):\n",
    "    pareto = Pareto(np.empty((0, num_output)))\n",
    "    gp_models = [GPy.models.GPRegression(cmbo_input[:].copy(), cmbo_output[:,[i]].copy(), kernel= GPy.kern.RBF(input_dim=n_params, ARD=True)) for i in range(cmbo_output.shape[1])]\n",
    "    for m in gp_models:\n",
    "        m.optimize()\n",
    "    \n",
    "    context_X = np.hstack((cmbo_input[:,:-1], np.ones((len(cmbo_input), 1)) * context_list[i]))\n",
    "    preds =  [m.predict(context_X) for m in gp_models]\n",
    "    context_Y, var = (np.concatenate(moment, 1) for moment in zip(*preds))\n",
    "    \n",
    "    pareto.update(context_Y)\n",
    "    pf = pareto.front\n",
    "       \n",
    "    next_point = np.atleast_2d(sample_next_point(EHVI, gp_models, bounds, pareto, reference, num_output, context_list[i]))\n",
    "    next_point = np.hstack((next_point, np.ones((1,1)) * context_list[i]))\n",
    "    cmbo_input = np.append(cmbo_input, next_point, axis = 0)\n",
    "    function_value = multiobj_f(np.atleast_2d(next_point))\n",
    "    cmbo_output = np.append(cmbo_output, function_value, axis = 0)"
   ]
  },
  {
   "cell_type": "code",
   "execution_count": null,
   "metadata": {},
   "outputs": [],
   "source": [
    "cmbo_input = np.vstack((cmbo_input, np.atleast_2d(initial_input)))\n",
    "cmbo_output = multiobj_f(cmbo_input) \n",
    "\n",
    "for i in range(trial):\n",
    "    pareto = Pareto(np.empty((0, num_output)))    \n",
    "    gp_models = [GPy.models.GPRegression(cmbo_input[:].copy(), cmbo_output[:,[i]].copy(), kernel= GPy.kern.RBF(input_dim=n_params, ARD=True)) for i in range(cmbo_output.shape[1])]\n",
    "    for m in gp_models:\n",
    "        m.optimize()\n",
    "    \n",
    "    context_X = np.hstack((cmbo_input[:,:-1], np.ones((len(cmbo_input), 1)) * current_wd))\n",
    "    preds =  [m.predict(context_X) for m in gp_models]\n",
    "    context_Y, var = (np.concatenate(moment, 1) for moment in zip(*preds))\n",
    "    \n",
    "    pareto.update(context_Y)\n",
    "    pf = pareto.front\n",
    "    \n",
    "    next_point = np.atleast_2d(sample_next_point(EHVI, gp_models, bounds, pareto, reference, num_output, current_wd))\n",
    "    next_point = np.hstack((next_point, np.ones((1,1)) * current_wd))\n",
    "    cmbo_input = np.append(cmbo_input, next_point, axis = 0)\n",
    "    function_value = multiobj_f(np.atleast_2d(next_point))\n",
    "    cmbo_output = np.append(cmbo_output, function_value, axis = 0)    "
   ]
  },
  {
   "cell_type": "code",
   "execution_count": null,
   "metadata": {},
   "outputs": [],
   "source": [
    "cmbo_volume = []\n",
    "for i in range(len(cmbo_output[100:])):\n",
    "    cmbo_hv = hypervolume(cmbo_output[100:100+i+1])\n",
    "    v = cmbo_hv.compute(ref_point)\n",
    "    cmbo_volume.append(v)\n",
    "plt.figure(figsize=(9,5))\n",
    "plt.plot(cmbo_volume)\n",
    "plt.show()"
   ]
  },
  {
   "cell_type": "code",
   "execution_count": null,
   "metadata": {},
   "outputs": [],
   "source": [
    "plt.scatter(cmbo_output[100:,0], cmbo_output[100:,1])\n",
    "plt.show()"
   ]
  },
  {
   "cell_type": "code",
   "execution_count": null,
   "metadata": {},
   "outputs": [],
   "source": [
    "plt.scatter(f_value[:,0], f_value[:,1])\n",
    "plt.scatter(context_Y[:,0], context_Y[:,1], color = 'yellow')\n",
    "plt.show()"
   ]
  },
  {
   "cell_type": "code",
   "execution_count": null,
   "metadata": {},
   "outputs": [],
   "source": [
    "pareto = Pareto(np.empty((0, num_output)))\n",
    "reference = np.ones((1, num_output))\n",
    "pareto.update(context_Y)\n",
    "\n",
    "plt.scatter(f_value[:,0], f_value[:,1])\n",
    "plt.scatter(virtual_pareto.front[:,0], virtual_pareto.front[:,1], color = 'yellow')\n",
    "plt.show()"
   ]
  },
  {
   "cell_type": "code",
   "execution_count": null,
   "metadata": {},
   "outputs": [],
   "source": [
    "pf = pareto.front\n",
    "f = np.max(pf, axis=0, keepdims=True) - np.min(pf, axis=0, keepdims=True)\n",
    "reference = np.max(pf, axis=0, keepdims=True) + 2 * f / pf.shape[0]\n",
    "\n",
    "next_point = np.atleast_2d(sample_next_point(hypervolume_poi, gp_models, bounds, pareto, reference, num_output, current_wd))\n",
    "next_point = np.hstack((next_point, np.ones((1,1)) * current_wd))\n",
    "function_value = multiobj_f(np.atleast_2d(next_point))"
   ]
  },
  {
   "cell_type": "code",
   "execution_count": null,
   "metadata": {},
   "outputs": [],
   "source": [
    "plt.scatter(f_value[:,0], f_value[:,1])\n",
    "plt.scatter(pareto.front[:,0], pareto.front[:,1], color = 'yellow')\n",
    "plt.scatter(function_value[:,0], function_value[:,1], color = 'red')\n",
    "plt.show()"
   ]
  }
 ],
 "metadata": {
  "kernelspec": {
   "display_name": "Python 3",
   "language": "python",
   "name": "python3"
  },
  "language_info": {
   "codemirror_mode": {
    "name": "ipython",
    "version": 3
   },
   "file_extension": ".py",
   "mimetype": "text/x-python",
   "name": "python",
   "nbconvert_exporter": "python",
   "pygments_lexer": "ipython3",
   "version": "3.5.2"
  }
 },
 "nbformat": 4,
 "nbformat_minor": 2
}
